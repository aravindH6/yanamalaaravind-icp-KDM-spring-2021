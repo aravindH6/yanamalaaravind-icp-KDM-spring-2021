{
  "nbformat": 4,
  "nbformat_minor": 0,
  "metadata": {
    "colab": {
      "name": "Untitled2.ipynb",
      "provenance": [],
      "authorship_tag": "ABX9TyNlCOBUsTU5rSebLQYknsO0",
      "include_colab_link": true
    },
    "kernelspec": {
      "name": "python3",
      "display_name": "Python 3"
    }
  },
  "cells": [
    {
      "cell_type": "markdown",
      "metadata": {
        "id": "view-in-github",
        "colab_type": "text"
      },
      "source": [
        "<a href=\"https://colab.research.google.com/github/aravindH6/yanamalaaravind-icp-KDM-spring-2021/blob/main/Untitled2.ipynb\" target=\"_parent\"><img src=\"https://colab.research.google.com/assets/colab-badge.svg\" alt=\"Open In Colab\"/></a>"
      ]
    },
    {
      "cell_type": "code",
      "metadata": {
        "colab": {
          "base_uri": "https://localhost:8080/"
        },
        "id": "bCXFXyP7xF5c",
        "outputId": "0b9bd41f-0987-4f5f-ecc2-b433a29d7687"
      },
      "source": [
        "#importing all libraries\r\n",
        "import nltk\r\n",
        "nltk.download('punkt')\r\n",
        "import pandas as pd\r\n",
        "from nltk.tokenize import sent_tokenize\r\n",
        "from nltk.tokenize import word_tokenize\r\n",
        "from nltk.probability import FreqDist\r\n",
        "import matplotlib.pyplot as plt"
      ],
      "execution_count": 1,
      "outputs": [
        {
          "output_type": "stream",
          "text": [
            "[nltk_data] Downloading package punkt to /root/nltk_data...\n",
            "[nltk_data]   Unzipping tokenizers/punkt.zip.\n"
          ],
          "name": "stdout"
        }
      ]
    },
    {
      "cell_type": "code",
      "metadata": {
        "colab": {
          "base_uri": "https://localhost:8080/",
          "height": 81
        },
        "id": "2OTmIcD6ydi2",
        "outputId": "8e4789f4-0842-4dc1-8db5-e5c2da67e04b"
      },
      "source": [
        "dataset=pd.read_csv(\"/content/task1.txt\",delimiter=\"\\t\")\r\n",
        "dataset"
      ],
      "execution_count": 2,
      "outputs": [
        {
          "output_type": "execute_result",
          "data": {
            "text/html": [
              "<div>\n",
              "<style scoped>\n",
              "    .dataframe tbody tr th:only-of-type {\n",
              "        vertical-align: middle;\n",
              "    }\n",
              "\n",
              "    .dataframe tbody tr th {\n",
              "        vertical-align: top;\n",
              "    }\n",
              "\n",
              "    .dataframe thead th {\n",
              "        text-align: right;\n",
              "    }\n",
              "</style>\n",
              "<table border=\"1\" class=\"dataframe\">\n",
              "  <thead>\n",
              "    <tr style=\"text-align: right;\">\n",
              "      <th></th>\n",
              "      <th>Python is dynamically typed and garbage-collected. It supports multiple programming paradigms, including structured (particularly, procedural), object-oriented and functional programming. Python is often described as a \"batteries included\" language due to its comprehensive standard library.</th>\n",
              "    </tr>\n",
              "  </thead>\n",
              "  <tbody>\n",
              "  </tbody>\n",
              "</table>\n",
              "</div>"
            ],
            "text/plain": [
              "Empty DataFrame\n",
              "Columns: [Python is dynamically typed and garbage-collected. It supports multiple programming paradigms, including structured (particularly, procedural), object-oriented and functional programming. Python is often described as a \"batteries included\" language due to its comprehensive standard library.]\n",
              "Index: []"
            ]
          },
          "metadata": {
            "tags": []
          },
          "execution_count": 2
        }
      ]
    },
    {
      "cell_type": "code",
      "metadata": {
        "colab": {
          "base_uri": "https://localhost:8080/",
          "height": 70
        },
        "id": "LMERqdWCzAkP",
        "outputId": "0275e25b-db8a-45a7-ef73-6555cbd6e448"
      },
      "source": [
        "text=dataset.to_string()\r\n",
        "text"
      ],
      "execution_count": 3,
      "outputs": [
        {
          "output_type": "execute_result",
          "data": {
            "application/vnd.google.colaboratory.intrinsic+json": {
              "type": "string"
            },
            "text/plain": [
              "'Empty DataFrame\\nColumns: [Python is dynamically typed and garbage-collected. It supports multiple programming paradigms, including structured (particularly, procedural), object-oriented and functional programming. Python is often described as a \"batteries included\" language due to its comprehensive standard library.]\\nIndex: []'"
            ]
          },
          "metadata": {
            "tags": []
          },
          "execution_count": 3
        }
      ]
    },
    {
      "cell_type": "code",
      "metadata": {
        "colab": {
          "base_uri": "https://localhost:8080/"
        },
        "id": "Ze9E9YBHzLn3",
        "outputId": "f1d07bd9-cb0a-44cf-e5dd-5a2c2c764a39"
      },
      "source": [
        "tokenized_text=sent_tokenize(text)\r\n",
        "print(tokenized_text)"
      ],
      "execution_count": 4,
      "outputs": [
        {
          "output_type": "stream",
          "text": [
            "['Empty DataFrame\\nColumns: [Python is dynamically typed and garbage-collected.', 'It supports multiple programming paradigms, including structured (particularly, procedural), object-oriented and functional programming.', 'Python is often described as a \"batteries included\" language due to its comprehensive standard library.]', 'Index: []']\n"
          ],
          "name": "stdout"
        }
      ]
    },
    {
      "cell_type": "code",
      "metadata": {
        "colab": {
          "base_uri": "https://localhost:8080/"
        },
        "id": "jvl4QwQVzgq1",
        "outputId": "4aac05eb-4c99-44c3-9e5d-f39adb46a2c1"
      },
      "source": [
        "tokenized_word=word_tokenize(text)\r\n",
        "print(tokenized_word)\r\n",
        "print(len(tokenized_word))"
      ],
      "execution_count": 5,
      "outputs": [
        {
          "output_type": "stream",
          "text": [
            "['Empty', 'DataFrame', 'Columns', ':', '[', 'Python', 'is', 'dynamically', 'typed', 'and', 'garbage-collected', '.', 'It', 'supports', 'multiple', 'programming', 'paradigms', ',', 'including', 'structured', '(', 'particularly', ',', 'procedural', ')', ',', 'object-oriented', 'and', 'functional', 'programming', '.', 'Python', 'is', 'often', 'described', 'as', 'a', '``', 'batteries', 'included', \"''\", 'language', 'due', 'to', 'its', 'comprehensive', 'standard', 'library', '.', ']', 'Index', ':', '[', ']']\n",
            "54\n"
          ],
          "name": "stdout"
        }
      ]
    },
    {
      "cell_type": "code",
      "metadata": {
        "colab": {
          "base_uri": "https://localhost:8080/"
        },
        "id": "iQeKm1a_z1tE",
        "outputId": "6dd224a4-9f69-4eb1-f0fa-f4efe5d5c50c"
      },
      "source": [
        "fdist=FreqDist(tokenized_word)\r\n",
        "print(fdist)"
      ],
      "execution_count": 7,
      "outputs": [
        {
          "output_type": "stream",
          "text": [
            "<FreqDist with 43 samples and 54 outcomes>\n"
          ],
          "name": "stdout"
        }
      ]
    },
    {
      "cell_type": "code",
      "metadata": {
        "colab": {
          "base_uri": "https://localhost:8080/"
        },
        "id": "S-Vx3ZIr0Llz",
        "outputId": "56b0deec-fff1-4d53-94f0-a1fb903abdb4"
      },
      "source": [
        "fdist.most_common(2)"
      ],
      "execution_count": 8,
      "outputs": [
        {
          "output_type": "execute_result",
          "data": {
            "text/plain": [
              "[('.', 3), (',', 3)]"
            ]
          },
          "metadata": {
            "tags": []
          },
          "execution_count": 8
        }
      ]
    },
    {
      "cell_type": "code",
      "metadata": {
        "colab": {
          "base_uri": "https://localhost:8080/",
          "height": 360
        },
        "id": "sBwvVvOP0Ty3",
        "outputId": "a1e23636-55ff-4c2c-c683-cc078734bbfe"
      },
      "source": [
        "v=fdist.plot(75,cumulative=False)\r\n",
        "plt.show()"
      ],
      "execution_count": 9,
      "outputs": [
        {
          "output_type": "display_data",
          "data": {
            "image/png": "[encoded data removed]",
            "text/plain": [
              "<Figure size 432x288 with 1 Axes>"
            ]
          },
          "metadata": {
            "tags": [],
            "needs_background": "light"
          }
        }
      ]
    }
  ]
}