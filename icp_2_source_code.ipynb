{
  "nbformat": 4,
  "nbformat_minor": 0,
  "metadata": {
    "colab": {
      "name": "icp 2 source code.ipynb",
      "provenance": [],
      "mount_file_id": "1_ZXgTYU5a_3Y3lgxBjWERbMZEFdWD4A9",
      "authorship_tag": "ABX9TyMF1X1foq5NELQ7tASZAtIK",
      "include_colab_link": true
    },
    "kernelspec": {
      "name": "python3",
      "display_name": "Python 3"
    }
  },
  "cells": [
    {
      "cell_type": "markdown",
      "metadata": {
        "id": "view-in-github",
        "colab_type": "text"
      },
      "source": [
        "<a href=\"https://colab.research.google.com/github/aravindH6/yanamalaaravind-icp-KDM-spring-2021/blob/main/icp_2_source_code.ipynb\" target=\"_parent\"><img src=\"https://colab.research.google.com/assets/colab-badge.svg\" alt=\"Open In Colab\"/></a>"
      ]
    },
    {
      "cell_type": "markdown",
      "metadata": {
        "id": "MW0UHGjkn0ac"
      },
      "source": [
        "A.Parts of speech"
      ]
    },
    {
      "cell_type": "code",
      "metadata": {
        "colab": {
          "base_uri": "https://localhost:8080/"
        },
        "id": "WDE14TNwnpnu",
        "outputId": "793d019d-5162-437a-c256-45d8bada0ba6"
      },
      "source": [
        "import nltk \r\n",
        "from nltk.corpus import stopwords \r\n",
        "\r\n",
        "from nltk.tokenize import PunktSentenceTokenizer\r\n",
        "from nltk.tokenize import word_tokenize, sent_tokenize \r\n",
        "nltk.download('punkt')\r\n",
        "text = \"Xi Jinping is a Chinese politician who has served as General Secretary of the Chinese Communist Party (CCP) and Chairman of the Central Military Commission (CMC) since 2012, and President of the People's Republic of China (PRC) since 2013. He has been the paramount leader of China, the most prominent political leader in the country, since 2012. The son of Chinese Communist veteran Xi Zhongxun, he was exiled to rural Yanchuan County as a teenager following his father's purge during the Cultural Revolutionandlived in a cave in the village of Liangjiahe, where he joined the CCP and worked as the party secretary.\"\r\n",
        "tokenizer = sent_tokenize(text) \r\n",
        "nltk.download('averaged_perceptron_tagger')\r\n",
        "for j in tokenizer: \r\n",
        "    wordsList = nltk.word_tokenize(j) \r\n",
        "    postag = nltk.pos_tag(wordsList) \r\n",
        "    print(postag)\r\n",
        "    print(\"\")\r\n"
      ],
      "execution_count": 12,
      "outputs": [
        {
          "output_type": "stream",
          "text": [
            "[nltk_data] Downloading package punkt to /root/nltk_data...\n",
            "[nltk_data]   Package punkt is already up-to-date!\n",
            "[nltk_data] Downloading package averaged_perceptron_tagger to\n",
            "[nltk_data]     /root/nltk_data...\n",
            "[nltk_data]   Package averaged_perceptron_tagger is already up-to-\n",
            "[nltk_data]       date!\n",
            "[('Xi', 'NN'), ('Jinping', 'NNP'), ('is', 'VBZ'), ('a', 'DT'), ('Chinese', 'JJ'), ('politician', 'NN'), ('who', 'WP'), ('has', 'VBZ'), ('served', 'VBN'), ('as', 'IN'), ('General', 'NNP'), ('Secretary', 'NNP'), ('of', 'IN'), ('the', 'DT'), ('Chinese', 'NNP'), ('Communist', 'NNP'), ('Party', 'NNP'), ('(', '('), ('CCP', 'NNP'), (')', ')'), ('and', 'CC'), ('Chairman', 'NNP'), ('of', 'IN'), ('the', 'DT'), ('Central', 'NNP'), ('Military', 'NNP'), ('Commission', 'NNP'), ('(', '('), ('CMC', 'NNP'), (')', ')'), ('since', 'IN'), ('2012', 'CD'), (',', ','), ('and', 'CC'), ('President', 'NNP'), ('of', 'IN'), ('the', 'DT'), ('People', 'NNP'), (\"'s\", 'POS'), ('Republic', 'NNP'), ('of', 'IN'), ('China', 'NNP'), ('(', '('), ('PRC', 'NNP'), (')', ')'), ('since', 'IN'), ('2013', 'CD'), ('.', '.')]\n",
            "\n",
            "[('He', 'PRP'), ('has', 'VBZ'), ('been', 'VBN'), ('the', 'DT'), ('paramount', 'JJ'), ('leader', 'NN'), ('of', 'IN'), ('China', 'NNP'), (',', ','), ('the', 'DT'), ('most', 'RBS'), ('prominent', 'JJ'), ('political', 'JJ'), ('leader', 'NN'), ('in', 'IN'), ('the', 'DT'), ('country', 'NN'), (',', ','), ('since', 'IN'), ('2012', 'CD'), ('.', '.')]\n",
            "\n",
            "[('The', 'DT'), ('son', 'NN'), ('of', 'IN'), ('Chinese', 'JJ'), ('Communist', 'NNP'), ('veteran', 'NN'), ('Xi', 'NNP'), ('Zhongxun', 'NNP'), (',', ','), ('he', 'PRP'), ('was', 'VBD'), ('exiled', 'VBN'), ('to', 'TO'), ('rural', 'JJ'), ('Yanchuan', 'NNP'), ('County', 'NNP'), ('as', 'IN'), ('a', 'DT'), ('teenager', 'NN'), ('following', 'VBG'), ('his', 'PRP$'), ('father', 'NN'), (\"'s\", 'POS'), ('purge', 'NN'), ('during', 'IN'), ('the', 'DT'), ('Cultural', 'NNP'), ('Revolutionandlived', 'NNP'), ('in', 'IN'), ('a', 'DT'), ('cave', 'NN'), ('in', 'IN'), ('the', 'DT'), ('village', 'NN'), ('of', 'IN'), ('Liangjiahe', 'NNP'), (',', ','), ('where', 'WRB'), ('he', 'PRP'), ('joined', 'VBD'), ('the', 'DT'), ('CCP', 'NNP'), ('and', 'CC'), ('worked', 'VBD'), ('as', 'IN'), ('the', 'DT'), ('party', 'NN'), ('secretary', 'NN'), ('.', '.')]\n",
            "\n"
          ],
          "name": "stdout"
        }
      ]
    },
    {
      "cell_type": "markdown",
      "metadata": {
        "id": "QL8pJFqRoACZ"
      },
      "source": [
        "B.Named entity recognizer (NER)"
      ]
    },
    {
      "cell_type": "code",
      "metadata": {
        "colab": {
          "base_uri": "https://localhost:8080/"
        },
        "id": "nSGQI8T1n-jh",
        "outputId": "07f0297b-9eac-4d89-ed36-fd0ba7f91d59"
      },
      "source": [
        "import nltk \r\n",
        "from nltk.corpus import stopwords \r\n",
        "\r\n",
        "from nltk.tokenize import PunktSentenceTokenizer\r\n",
        "from nltk.tokenize import word_tokenize, sent_tokenize \r\n",
        "nltk.download('punkt')\r\n",
        "  \r\n",
        "import spacy \r\n",
        "  \r\n",
        "nlp = spacy.load('en_core_web_sm') \r\n",
        "text = \"Xi Jinping is a Chinese politician who has served as General Secretary of the Chinese Communist Party (CCP) and Chairman of the Central Military Commission (CMC) since 2012, and President of the People's Republic of China (PRC) since 2013. He has been the paramount leader of China, the most prominent political leader in the country, since 2012. The son of Chinese Communist veteran Xi Zhongxun, he was exiled to rural Yanchuan County as a teenager following his father's purge during the Cultural Revolutionandlived in a cave in the village of Liangjiahe, where he joined the CCP and worked as the party secretary.\"\r\n",
        "\r\n",
        "tokenizer = sent_tokenize(text) \r\n",
        "nltk.download('averaged_perceptron_tagger')\r\n",
        "print(\"{:s}\\t{}\".format(\"Word\",  \"NER\"))\r\n",
        "\r\n",
        "doc = nlp(text) \r\n",
        "  \r\n",
        "for ent in doc.ents: \r\n",
        "    print(ent.text, ent.label_, ent.lemma_) \r\n",
        "\r\n",
        "    print(\"\")"
      ],
      "execution_count": 38,
      "outputs": [
        {
          "output_type": "stream",
          "text": [
            "[nltk_data] Downloading package punkt to /root/nltk_data...\n",
            "[nltk_data]   Package punkt is already up-to-date!\n",
            "[nltk_data] Downloading package averaged_perceptron_tagger to\n",
            "[nltk_data]     /root/nltk_data...\n",
            "[nltk_data]   Package averaged_perceptron_tagger is already up-to-\n",
            "[nltk_data]       date!\n",
            "Word\tNER\n",
            "Xi Jinping PERSON Xi Jinping\n",
            "\n",
            "Chinese NORP chinese\n",
            "\n",
            "the Chinese Communist Party ORG the Chinese Communist Party\n",
            "\n",
            "CCP ORG CCP\n",
            "\n",
            "the Central Military Commission ORG the Central Military Commission\n",
            "\n",
            "2012 DATE 2012\n",
            "\n",
            "the People's Republic of China GPE the People 's Republic of China\n",
            "\n",
            "PRC GPE PRC\n",
            "\n",
            "2013 DATE 2013\n",
            "\n",
            "China GPE China\n",
            "\n",
            "2012 DATE 2012\n",
            "\n",
            "Chinese NORP Chinese\n",
            "\n",
            "Communist NORP communist\n",
            "\n",
            "Xi Zhongxun PERSON Xi Zhongxun\n",
            "\n",
            "Yanchuan County GPE Yanchuan County\n",
            "\n",
            "the Cultural Revolutionandlived EVENT the Cultural revolutionandlive\n",
            "\n",
            "Liangjiahe GPE Liangjiahe\n",
            "\n",
            "CCP ORG CCP\n",
            "\n"
          ],
          "name": "stdout"
        }
      ]
    },
    {
      "cell_type": "code",
      "metadata": {
        "colab": {
          "base_uri": "https://localhost:8080/"
        },
        "id": "GSMOhnTwr_4d",
        "outputId": "33a6dd63-3385-4aec-b620-43ec03c68b23"
      },
      "source": [
        "pip install -U pip setuptools wheel\r\n"
      ],
      "execution_count": 51,
      "outputs": [
        {
          "output_type": "stream",
          "text": [
            "Collecting pip\n",
            "\u001b[?25l  Downloading https://files.pythonhosted.org/packages/fe/ef/60d7ba03b5c442309ef42e7d69959f73aacccd0d86008362a681c4698e83/pip-21.0.1-py3-none-any.whl (1.5MB)\n",
            "\r\u001b[K     |▏                               | 10kB 13.6MB/s eta 0:00:01\r\u001b[K     |▍                               | 20kB 10.6MB/s eta 0:00:01\r\u001b[K     |▋                               | 30kB 7.6MB/s eta 0:00:01\r\u001b[K     |▉                               | 40kB 6.8MB/s eta 0:00:01\r\u001b[K     |█                               | 51kB 4.2MB/s eta 0:00:01\r\u001b[K     |█▎                              | 61kB 4.7MB/s eta 0:00:01\r\u001b[K     |█▌                              | 71kB 5.0MB/s eta 0:00:01\r\u001b[K     |█▊                              | 81kB 4.8MB/s eta 0:00:01\r\u001b[K     |██                              | 92kB 5.2MB/s eta 0:00:01\r\u001b[K     |██▏                             | 102kB 5.5MB/s eta 0:00:01\r\u001b[K     |██▍                             | 112kB 5.5MB/s eta 0:00:01\r\u001b[K     |██▌                             | 122kB 5.5MB/s eta 0:00:01\r\u001b[K     |██▊                             | 133kB 5.5MB/s eta 0:00:01\r\u001b[K     |███                             | 143kB 5.5MB/s eta 0:00:01\r\u001b[K     |███▏                            | 153kB 5.5MB/s eta 0:00:01\r\u001b[K     |███▍                            | 163kB 5.5MB/s eta 0:00:01\r\u001b[K     |███▋                            | 174kB 5.5MB/s eta 0:00:01\r\u001b[K     |███▉                            | 184kB 5.5MB/s eta 0:00:01\r\u001b[K     |████                            | 194kB 5.5MB/s eta 0:00:01\r\u001b[K     |████▎                           | 204kB 5.5MB/s eta 0:00:01\r\u001b[K     |████▌                           | 215kB 5.5MB/s eta 0:00:01\r\u001b[K     |████▊                           | 225kB 5.5MB/s eta 0:00:01\r\u001b[K     |█████                           | 235kB 5.5MB/s eta 0:00:01\r\u001b[K     |█████                           | 245kB 5.5MB/s eta 0:00:01\r\u001b[K     |█████▎                          | 256kB 5.5MB/s eta 0:00:01\r\u001b[K     |█████▌                          | 266kB 5.5MB/s eta 0:00:01\r\u001b[K     |█████▊                          | 276kB 5.5MB/s eta 0:00:01\r\u001b[K     |██████                          | 286kB 5.5MB/s eta 0:00:01\r\u001b[K     |██████▏                         | 296kB 5.5MB/s eta 0:00:01\r\u001b[K     |██████▍                         | 307kB 5.5MB/s eta 0:00:01\r\u001b[K     |██████▋                         | 317kB 5.5MB/s eta 0:00:01\r\u001b[K     |██████▉                         | 327kB 5.5MB/s eta 0:00:01\r\u001b[K     |███████                         | 337kB 5.5MB/s eta 0:00:01\r\u001b[K     |███████▎                        | 348kB 5.5MB/s eta 0:00:01\r\u001b[K     |███████▌                        | 358kB 5.5MB/s eta 0:00:01\r\u001b[K     |███████▋                        | 368kB 5.5MB/s eta 0:00:01\r\u001b[K     |███████▉                        | 378kB 5.5MB/s eta 0:00:01\r\u001b[K     |████████                        | 389kB 5.5MB/s eta 0:00:01\r\u001b[K     |████████▎                       | 399kB 5.5MB/s eta 0:00:01\r\u001b[K     |████████▌                       | 409kB 5.5MB/s eta 0:00:01\r\u001b[K     |████████▊                       | 419kB 5.5MB/s eta 0:00:01\r\u001b[K     |█████████                       | 430kB 5.5MB/s eta 0:00:01\r\u001b[K     |█████████▏                      | 440kB 5.5MB/s eta 0:00:01\r\u001b[K     |█████████▍                      | 450kB 5.5MB/s eta 0:00:01\r\u001b[K     |█████████▋                      | 460kB 5.5MB/s eta 0:00:01\r\u001b[K     |█████████▉                      | 471kB 5.5MB/s eta 0:00:01\r\u001b[K     |██████████                      | 481kB 5.5MB/s eta 0:00:01\r\u001b[K     |██████████▏                     | 491kB 5.5MB/s eta 0:00:01\r\u001b[K     |██████████▍                     | 501kB 5.5MB/s eta 0:00:01\r\u001b[K     |██████████▋                     | 512kB 5.5MB/s eta 0:00:01\r\u001b[K     |██████████▉                     | 522kB 5.5MB/s eta 0:00:01\r\u001b[K     |███████████                     | 532kB 5.5MB/s eta 0:00:01\r\u001b[K     |███████████▎                    | 542kB 5.5MB/s eta 0:00:01\r\u001b[K     |███████████▌                    | 552kB 5.5MB/s eta 0:00:01\r\u001b[K     |███████████▊                    | 563kB 5.5MB/s eta 0:00:01\r\u001b[K     |████████████                    | 573kB 5.5MB/s eta 0:00:01\r\u001b[K     |████████████▏                   | 583kB 5.5MB/s eta 0:00:01\r\u001b[K     |████████████▍                   | 593kB 5.5MB/s eta 0:00:01\r\u001b[K     |████████████▋                   | 604kB 5.5MB/s eta 0:00:01\r\u001b[K     |████████████▊                   | 614kB 5.5MB/s eta 0:00:01\r\u001b[K     |█████████████                   | 624kB 5.5MB/s eta 0:00:01\r\u001b[K     |█████████████▏                  | 634kB 5.5MB/s eta 0:00:01\r\u001b[K     |█████████████▍                  | 645kB 5.5MB/s eta 0:00:01\r\u001b[K     |█████████████▋                  | 655kB 5.5MB/s eta 0:00:01\r\u001b[K     |█████████████▉                  | 665kB 5.5MB/s eta 0:00:01\r\u001b[K     |██████████████                  | 675kB 5.5MB/s eta 0:00:01\r\u001b[K     |██████████████▎                 | 686kB 5.5MB/s eta 0:00:01\r\u001b[K     |██████████████▌                 | 696kB 5.5MB/s eta 0:00:01\r\u001b[K     |██████████████▊                 | 706kB 5.5MB/s eta 0:00:01\r\u001b[K     |███████████████                 | 716kB 5.5MB/s eta 0:00:01\r\u001b[K     |███████████████▏                | 727kB 5.5MB/s eta 0:00:01\r\u001b[K     |███████████████▎                | 737kB 5.5MB/s eta 0:00:01\r\u001b[K     |███████████████▌                | 747kB 5.5MB/s eta 0:00:01\r\u001b[K     |███████████████▊                | 757kB 5.5MB/s eta 0:00:01\r\u001b[K     |████████████████                | 768kB 5.5MB/s eta 0:00:01\r\u001b[K     |████████████████▏               | 778kB 5.5MB/s eta 0:00:01\r\u001b[K     |████████████████▍               | 788kB 5.5MB/s eta 0:00:01\r\u001b[K     |████████████████▋               | 798kB 5.5MB/s eta 0:00:01\r\u001b[K     |████████████████▉               | 808kB 5.5MB/s eta 0:00:01\r\u001b[K     |█████████████████               | 819kB 5.5MB/s eta 0:00:01\r\u001b[K     |█████████████████▎              | 829kB 5.5MB/s eta 0:00:01\r\u001b[K     |█████████████████▌              | 839kB 5.5MB/s eta 0:00:01\r\u001b[K     |█████████████████▊              | 849kB 5.5MB/s eta 0:00:01\r\u001b[K     |█████████████████▉              | 860kB 5.5MB/s eta 0:00:01\r\u001b[K     |██████████████████              | 870kB 5.5MB/s eta 0:00:01\r\u001b[K     |██████████████████▎             | 880kB 5.5MB/s eta 0:00:01\r\u001b[K     |██████████████████▌             | 890kB 5.5MB/s eta 0:00:01\r\u001b[K     |██████████████████▊             | 901kB 5.5MB/s eta 0:00:01\r\u001b[K     |███████████████████             | 911kB 5.5MB/s eta 0:00:01\r\u001b[K     |███████████████████▏            | 921kB 5.5MB/s eta 0:00:01\r\u001b[K     |███████████████████▍            | 931kB 5.5MB/s eta 0:00:01\r\u001b[K     |███████████████████▋            | 942kB 5.5MB/s eta 0:00:01\r\u001b[K     |███████████████████▉            | 952kB 5.5MB/s eta 0:00:01\r\u001b[K     |████████████████████            | 962kB 5.5MB/s eta 0:00:01\r\u001b[K     |████████████████████▎           | 972kB 5.5MB/s eta 0:00:01\r\u001b[K     |████████████████████▍           | 983kB 5.5MB/s eta 0:00:01\r\u001b[K     |████████████████████▋           | 993kB 5.5MB/s eta 0:00:01\r\u001b[K     |████████████████████▉           | 1.0MB 5.5MB/s eta 0:00:01\r\u001b[K     |█████████████████████           | 1.0MB 5.5MB/s eta 0:00:01\r\u001b[K     |█████████████████████▎          | 1.0MB 5.5MB/s eta 0:00:01\r\u001b[K     |█████████████████████▌          | 1.0MB 5.5MB/s eta 0:00:01\r\u001b[K     |█████████████████████▊          | 1.0MB 5.5MB/s eta 0:00:01\r\u001b[K     |██████████████████████          | 1.1MB 5.5MB/s eta 0:00:01\r\u001b[K     |██████████████████████▏         | 1.1MB 5.5MB/s eta 0:00:01\r\u001b[K     |██████████████████████▍         | 1.1MB 5.5MB/s eta 0:00:01\r\u001b[K     |██████████████████████▋         | 1.1MB 5.5MB/s eta 0:00:01\r\u001b[K     |██████████████████████▉         | 1.1MB 5.5MB/s eta 0:00:01\r\u001b[K     |███████████████████████         | 1.1MB 5.5MB/s eta 0:00:01\r\u001b[K     |███████████████████████▏        | 1.1MB 5.5MB/s eta 0:00:01\r\u001b[K     |███████████████████████▍        | 1.1MB 5.5MB/s eta 0:00:01\r\u001b[K     |███████████████████████▋        | 1.1MB 5.5MB/s eta 0:00:01\r\u001b[K     |███████████████████████▉        | 1.1MB 5.5MB/s eta 0:00:01\r\u001b[K     |████████████████████████        | 1.2MB 5.5MB/s eta 0:00:01\r\u001b[K     |████████████████████████▎       | 1.2MB 5.5MB/s eta 0:00:01\r\u001b[K     |████████████████████████▌       | 1.2MB 5.5MB/s eta 0:00:01\r\u001b[K     |████████████████████████▊       | 1.2MB 5.5MB/s eta 0:00:01\r\u001b[K     |█████████████████████████       | 1.2MB 5.5MB/s eta 0:00:01\r\u001b[K     |█████████████████████████▏      | 1.2MB 5.5MB/s eta 0:00:01\r\u001b[K     |█████████████████████████▍      | 1.2MB 5.5MB/s eta 0:00:01\r\u001b[K     |█████████████████████████▌      | 1.2MB 5.5MB/s eta 0:00:01\r\u001b[K     |█████████████████████████▊      | 1.2MB 5.5MB/s eta 0:00:01\r\u001b[K     |██████████████████████████      | 1.2MB 5.5MB/s eta 0:00:01\r\u001b[K     |██████████████████████████▏     | 1.3MB 5.5MB/s eta 0:00:01\r\u001b[K     |██████████████████████████▍     | 1.3MB 5.5MB/s eta 0:00:01\r\u001b[K     |██████████████████████████▋     | 1.3MB 5.5MB/s eta 0:00:01\r\u001b[K     |██████████████████████████▉     | 1.3MB 5.5MB/s eta 0:00:01\r\u001b[K     |███████████████████████████     | 1.3MB 5.5MB/s eta 0:00:01\r\u001b[K     |███████████████████████████▎    | 1.3MB 5.5MB/s eta 0:00:01\r\u001b[K     |███████████████████████████▌    | 1.3MB 5.5MB/s eta 0:00:01\r\u001b[K     |███████████████████████████▊    | 1.3MB 5.5MB/s eta 0:00:01\r\u001b[K     |███████████████████████████▉    | 1.3MB 5.5MB/s eta 0:00:01\r\u001b[K     |████████████████████████████    | 1.4MB 5.5MB/s eta 0:00:01\r\u001b[K     |████████████████████████████▎   | 1.4MB 5.5MB/s eta 0:00:01\r\u001b[K     |████████████████████████████▌   | 1.4MB 5.5MB/s eta 0:00:01\r\u001b[K     |████████████████████████████▊   | 1.4MB 5.5MB/s eta 0:00:01\r\u001b[K     |█████████████████████████████   | 1.4MB 5.5MB/s eta 0:00:01\r\u001b[K     |█████████████████████████████▏  | 1.4MB 5.5MB/s eta 0:00:01\r\u001b[K     |█████████████████████████████▍  | 1.4MB 5.5MB/s eta 0:00:01\r\u001b[K     |█████████████████████████████▋  | 1.4MB 5.5MB/s eta 0:00:01\r\u001b[K     |█████████████████████████████▉  | 1.4MB 5.5MB/s eta 0:00:01\r\u001b[K     |██████████████████████████████  | 1.4MB 5.5MB/s eta 0:00:01\r\u001b[K     |██████████████████████████████▎ | 1.5MB 5.5MB/s eta 0:00:01\r\u001b[K     |██████████████████████████████▍ | 1.5MB 5.5MB/s eta 0:00:01\r\u001b[K     |██████████████████████████████▋ | 1.5MB 5.5MB/s eta 0:00:01\r\u001b[K     |██████████████████████████████▉ | 1.5MB 5.5MB/s eta 0:00:01\r\u001b[K     |███████████████████████████████ | 1.5MB 5.5MB/s eta 0:00:01\r\u001b[K     |███████████████████████████████▎| 1.5MB 5.5MB/s eta 0:00:01\r\u001b[K     |███████████████████████████████▌| 1.5MB 5.5MB/s eta 0:00:01\r\u001b[K     |███████████████████████████████▊| 1.5MB 5.5MB/s eta 0:00:01\r\u001b[K     |████████████████████████████████| 1.5MB 5.5MB/s eta 0:00:01\r\u001b[K     |████████████████████████████████| 1.5MB 5.5MB/s \n",
            "\u001b[?25hRequirement already up-to-date: setuptools in /usr/local/lib/python3.6/dist-packages (53.0.0)\n",
            "Requirement already up-to-date: wheel in /usr/local/lib/python3.6/dist-packages (0.36.2)\n",
            "Installing collected packages: pip\n",
            "  Found existing installation: pip 19.3.1\n",
            "    Uninstalling pip-19.3.1:\n",
            "      Successfully uninstalled pip-19.3.1\n",
            "Successfully installed pip-21.0.1\n"
          ],
          "name": "stdout"
        }
      ]
    },
    {
      "cell_type": "code",
      "metadata": {
        "colab": {
          "base_uri": "https://localhost:8080/",
          "height": 1000
        },
        "id": "Y839OwFGsGMq",
        "outputId": "1696bcff-a11f-408b-d8ae-a536ad2b1ec3"
      },
      "source": [
        "pip install -U spacy"
      ],
      "execution_count": 52,
      "outputs": [
        {
          "output_type": "stream",
          "text": [
            "Requirement already satisfied: spacy in /usr/local/lib/python3.6/dist-packages (2.2.4)\n",
            "Collecting spacy\n",
            "  Downloading spacy-3.0.1-cp36-cp36m-manylinux2014_x86_64.whl (12.8 MB)\n",
            "\u001b[K     |████████████████████████████████| 12.8 MB 6.4 MB/s \n",
            "\u001b[?25hRequirement already satisfied: tqdm<5.0.0,>=4.38.0 in /usr/local/lib/python3.6/dist-packages (from spacy) (4.41.1)\n",
            "Collecting srsly<3.0.0,>=2.4.0\n",
            "  Downloading srsly-2.4.0-cp36-cp36m-manylinux2014_x86_64.whl (456 kB)\n",
            "\u001b[K     |████████████████████████████████| 456 kB 20.2 MB/s \n",
            "\u001b[?25hRequirement already satisfied: jinja2 in /usr/local/lib/python3.6/dist-packages (from spacy) (2.11.2)\n",
            "Requirement already satisfied: murmurhash<1.1.0,>=0.28.0 in /usr/local/lib/python3.6/dist-packages (from spacy) (1.0.5)\n",
            "Collecting pathy\n",
            "  Downloading pathy-0.3.5-py3-none-any.whl (34 kB)\n",
            "Requirement already satisfied: requests<3.0.0,>=2.13.0 in /usr/local/lib/python3.6/dist-packages (from spacy) (2.23.0)\n",
            "Requirement already satisfied: setuptools in /usr/local/lib/python3.6/dist-packages (from spacy) (53.0.0)\n",
            "Requirement already satisfied: packaging>=20.0 in /usr/local/lib/python3.6/dist-packages (from spacy) (20.8)\n",
            "Collecting spacy-legacy<3.1.0,>=3.0.0\n",
            "  Downloading spacy_legacy-3.0.1-py2.py3-none-any.whl (7.0 kB)\n",
            "Collecting typer<0.4.0,>=0.3.0\n",
            "  Downloading typer-0.3.2-py3-none-any.whl (21 kB)\n",
            "Requirement already satisfied: blis<0.8.0,>=0.4.0 in /usr/local/lib/python3.6/dist-packages (from spacy) (0.4.1)\n",
            "Requirement already satisfied: typing-extensions>=3.7.4 in /usr/local/lib/python3.6/dist-packages (from spacy) (3.7.4.3)\n",
            "Requirement already satisfied: preshed<3.1.0,>=3.0.2 in /usr/local/lib/python3.6/dist-packages (from spacy) (3.0.5)\n",
            "Collecting thinc<8.1.0,>=8.0.0\n",
            "  Downloading thinc-8.0.1-cp36-cp36m-manylinux2014_x86_64.whl (1.1 MB)\n",
            "\u001b[K     |████████████████████████████████| 1.1 MB 26.1 MB/s \n",
            "\u001b[?25hRequirement already satisfied: wasabi<1.1.0,>=0.8.1 in /usr/local/lib/python3.6/dist-packages (from spacy) (0.8.1)\n",
            "Collecting pydantic<1.8.0,>=1.7.1\n",
            "  Downloading pydantic-1.7.3-cp36-cp36m-manylinux2014_x86_64.whl (9.2 MB)\n",
            "\u001b[K     |████████████████████████████████| 9.2 MB 24.8 MB/s \n",
            "\u001b[?25hRequirement already satisfied: numpy>=1.15.0 in /usr/local/lib/python3.6/dist-packages (from spacy) (1.19.5)\n",
            "Requirement already satisfied: cymem<2.1.0,>=2.0.2 in /usr/local/lib/python3.6/dist-packages (from spacy) (2.0.5)\n",
            "Collecting catalogue<2.1.0,>=2.0.1\n",
            "  Downloading catalogue-2.0.1-py3-none-any.whl (9.6 kB)\n",
            "Requirement already satisfied: importlib-metadata>=0.20 in /usr/local/lib/python3.6/dist-packages (from spacy) (3.4.0)\n",
            "Requirement already satisfied: zipp>=0.5 in /usr/local/lib/python3.6/dist-packages (from importlib-metadata>=0.20->spacy) (3.4.0)\n",
            "Requirement already satisfied: pyparsing>=2.0.2 in /usr/local/lib/python3.6/dist-packages (from packaging>=20.0->spacy) (2.4.7)\n",
            "Requirement already satisfied: dataclasses>=0.6 in /usr/local/lib/python3.6/dist-packages (from pydantic<1.8.0,>=1.7.1->spacy) (0.8)\n",
            "Requirement already satisfied: certifi>=2017.4.17 in /usr/local/lib/python3.6/dist-packages (from requests<3.0.0,>=2.13.0->spacy) (2020.12.5)\n",
            "Requirement already satisfied: urllib3!=1.25.0,!=1.25.1,<1.26,>=1.21.1 in /usr/local/lib/python3.6/dist-packages (from requests<3.0.0,>=2.13.0->spacy) (1.24.3)\n",
            "Requirement already satisfied: idna<3,>=2.5 in /usr/local/lib/python3.6/dist-packages (from requests<3.0.0,>=2.13.0->spacy) (2.10)\n",
            "Requirement already satisfied: chardet<4,>=3.0.2 in /usr/local/lib/python3.6/dist-packages (from requests<3.0.0,>=2.13.0->spacy) (3.0.4)\n",
            "Collecting contextvars<3,>=2.4\n",
            "  Downloading contextvars-2.4.tar.gz (9.6 kB)\n",
            "Collecting immutables>=0.9\n",
            "  Downloading immutables-0.14-cp36-cp36m-manylinux1_x86_64.whl (98 kB)\n",
            "\u001b[K     |████████████████████████████████| 98 kB 5.6 MB/s \n",
            "\u001b[?25hRequirement already satisfied: click<7.2.0,>=7.1.1 in /usr/local/lib/python3.6/dist-packages (from typer<0.4.0,>=0.3.0->spacy) (7.1.2)\n",
            "Requirement already satisfied: MarkupSafe>=0.23 in /usr/local/lib/python3.6/dist-packages (from jinja2->spacy) (1.1.1)\n",
            "Collecting smart-open<4.0.0,>=2.2.0\n",
            "  Downloading smart_open-3.0.0.tar.gz (113 kB)\n",
            "\u001b[K     |████████████████████████████████| 113 kB 35.7 MB/s \n",
            "\u001b[?25hBuilding wheels for collected packages: contextvars, smart-open\n",
            "  Building wheel for contextvars (setup.py) ... \u001b[?25l\u001b[?25hdone\n",
            "  Created wheel for contextvars: filename=contextvars-2.4-py3-none-any.whl size=7665 sha256=190d0402103f2ce79515188dcef60a837ebcdced6a8b68273126f66fa3668897\n",
            "  Stored in directory: /root/.cache/pip/wheels/41/11/53/911724983aa48deb94792432e14e518447212dd6c5477d49d3\n",
            "  Building wheel for smart-open (setup.py) ... \u001b[?25l\u001b[?25hdone\n",
            "  Created wheel for smart-open: filename=smart_open-3.0.0-py3-none-any.whl size=107097 sha256=5723d544e09dd2b611f880f8f1710561b248e0d1d9c5936d5570f0e3941eff98\n",
            "  Stored in directory: /root/.cache/pip/wheels/88/2a/d4/f2e9023989d4d4b3574f268657cb6cd23994665a038803f547\n",
            "Successfully built contextvars smart-open\n",
            "Installing collected packages: immutables, catalogue, typer, srsly, smart-open, pydantic, contextvars, thinc, spacy-legacy, pathy, spacy\n",
            "  Attempting uninstall: catalogue\n",
            "    Found existing installation: catalogue 1.0.0\n",
            "    Uninstalling catalogue-1.0.0:\n",
            "      Successfully uninstalled catalogue-1.0.0\n",
            "  Attempting uninstall: srsly\n",
            "    Found existing installation: srsly 1.0.5\n",
            "    Uninstalling srsly-1.0.5:\n",
            "      Successfully uninstalled srsly-1.0.5\n",
            "  Attempting uninstall: smart-open\n",
            "    Found existing installation: smart-open 4.1.2\n",
            "    Uninstalling smart-open-4.1.2:\n",
            "      Successfully uninstalled smart-open-4.1.2\n",
            "  Attempting uninstall: thinc\n",
            "    Found existing installation: thinc 7.4.0\n",
            "    Uninstalling thinc-7.4.0:\n",
            "      Successfully uninstalled thinc-7.4.0\n",
            "  Attempting uninstall: spacy\n",
            "    Found existing installation: spacy 2.2.4\n",
            "    Uninstalling spacy-2.2.4:\n",
            "      Successfully uninstalled spacy-2.2.4\n",
            "Successfully installed catalogue-2.0.1 contextvars-2.4 immutables-0.14 pathy-0.3.5 pydantic-1.7.3 smart-open-3.0.0 spacy-3.0.1 spacy-legacy-3.0.1 srsly-2.4.0 thinc-8.0.1 typer-0.3.2\n"
          ],
          "name": "stdout"
        },
        {
          "output_type": "display_data",
          "data": {
            "application/vnd.colab-display-data+json": {
              "pip_warning": {
                "packages": [
                  "catalogue",
                  "spacy",
                  "srsly",
                  "thinc"
                ]
              }
            }
          },
          "metadata": {
            "tags": []
          }
        }
      ]
    },
    {
      "cell_type": "code",
      "metadata": {
        "colab": {
          "base_uri": "https://localhost:8080/"
        },
        "id": "mWpMA6Vl-SUh",
        "outputId": "f9af6577-b8cd-4f1f-f219-ec4df6244ecf"
      },
      "source": [
        "!python -m spacy download en\r\n",
        "import spacy\r\n",
        "nlp = spacy.load(\"en_core_web_sm\")"
      ],
      "execution_count": 15,
      "outputs": [
        {
          "output_type": "stream",
          "text": [
            "2021-02-03 17:44:59.390970: I tensorflow/stream_executor/platform/default/dso_loader.cc:49] Successfully opened dynamic library libcudart.so.10.1\n",
            "\u001b[38;5;3m⚠ As of spaCy v3.0, shortcuts like 'en' are deprecated. Pleaseuse the\n",
            "full pipeline package name 'en_core_web_sm' instead.\u001b[0m\n",
            "Collecting en-core-web-sm==3.0.0\n",
            "  Downloading https://github.com/explosion/spacy-models/releases/download/en_core_web_sm-3.0.0/en_core_web_sm-3.0.0-py3-none-any.whl (13.7 MB)\n",
            "\u001b[K     |████████████████████████████████| 13.7 MB 109 kB/s \n",
            "\u001b[?25hRequirement already satisfied: spacy<3.1.0,>=3.0.0 in /usr/local/lib/python3.6/dist-packages (from en-core-web-sm==3.0.0) (3.0.1)\n",
            "Requirement already satisfied: packaging>=20.0 in /usr/local/lib/python3.6/dist-packages (from spacy<3.1.0,>=3.0.0->en-core-web-sm==3.0.0) (20.8)\n",
            "Requirement already satisfied: importlib-metadata>=0.20 in /usr/local/lib/python3.6/dist-packages (from spacy<3.1.0,>=3.0.0->en-core-web-sm==3.0.0) (3.4.0)\n",
            "Requirement already satisfied: jinja2 in /usr/local/lib/python3.6/dist-packages (from spacy<3.1.0,>=3.0.0->en-core-web-sm==3.0.0) (2.11.2)\n",
            "Requirement already satisfied: setuptools in /usr/local/lib/python3.6/dist-packages (from spacy<3.1.0,>=3.0.0->en-core-web-sm==3.0.0) (53.0.0)\n",
            "Requirement already satisfied: typing-extensions>=3.7.4 in /usr/local/lib/python3.6/dist-packages (from spacy<3.1.0,>=3.0.0->en-core-web-sm==3.0.0) (3.7.4.3)\n",
            "Requirement already satisfied: pathy in /usr/local/lib/python3.6/dist-packages (from spacy<3.1.0,>=3.0.0->en-core-web-sm==3.0.0) (0.3.5)\n",
            "Requirement already satisfied: wasabi<1.1.0,>=0.8.1 in /usr/local/lib/python3.6/dist-packages (from spacy<3.1.0,>=3.0.0->en-core-web-sm==3.0.0) (0.8.1)\n",
            "Requirement already satisfied: blis<0.8.0,>=0.4.0 in /usr/local/lib/python3.6/dist-packages (from spacy<3.1.0,>=3.0.0->en-core-web-sm==3.0.0) (0.4.1)\n",
            "Requirement already satisfied: spacy-legacy<3.1.0,>=3.0.0 in /usr/local/lib/python3.6/dist-packages (from spacy<3.1.0,>=3.0.0->en-core-web-sm==3.0.0) (3.0.1)\n",
            "Requirement already satisfied: cymem<2.1.0,>=2.0.2 in /usr/local/lib/python3.6/dist-packages (from spacy<3.1.0,>=3.0.0->en-core-web-sm==3.0.0) (2.0.5)\n",
            "Requirement already satisfied: preshed<3.1.0,>=3.0.2 in /usr/local/lib/python3.6/dist-packages (from spacy<3.1.0,>=3.0.0->en-core-web-sm==3.0.0) (3.0.5)\n",
            "Requirement already satisfied: srsly<3.0.0,>=2.4.0 in /usr/local/lib/python3.6/dist-packages (from spacy<3.1.0,>=3.0.0->en-core-web-sm==3.0.0) (2.4.0)\n",
            "Requirement already satisfied: typer<0.4.0,>=0.3.0 in /usr/local/lib/python3.6/dist-packages (from spacy<3.1.0,>=3.0.0->en-core-web-sm==3.0.0) (0.3.2)\n",
            "Requirement already satisfied: pydantic<1.8.0,>=1.7.1 in /usr/local/lib/python3.6/dist-packages (from spacy<3.1.0,>=3.0.0->en-core-web-sm==3.0.0) (1.7.3)\n",
            "Requirement already satisfied: tqdm<5.0.0,>=4.38.0 in /usr/local/lib/python3.6/dist-packages (from spacy<3.1.0,>=3.0.0->en-core-web-sm==3.0.0) (4.41.1)\n",
            "Requirement already satisfied: requests<3.0.0,>=2.13.0 in /usr/local/lib/python3.6/dist-packages (from spacy<3.1.0,>=3.0.0->en-core-web-sm==3.0.0) (2.23.0)\n",
            "Requirement already satisfied: numpy>=1.15.0 in /usr/local/lib/python3.6/dist-packages (from spacy<3.1.0,>=3.0.0->en-core-web-sm==3.0.0) (1.19.5)\n",
            "Requirement already satisfied: murmurhash<1.1.0,>=0.28.0 in /usr/local/lib/python3.6/dist-packages (from spacy<3.1.0,>=3.0.0->en-core-web-sm==3.0.0) (1.0.5)\n",
            "Requirement already satisfied: thinc<8.1.0,>=8.0.0 in /usr/local/lib/python3.6/dist-packages (from spacy<3.1.0,>=3.0.0->en-core-web-sm==3.0.0) (8.0.1)\n",
            "Requirement already satisfied: catalogue<2.1.0,>=2.0.1 in /usr/local/lib/python3.6/dist-packages (from spacy<3.1.0,>=3.0.0->en-core-web-sm==3.0.0) (2.0.1)\n",
            "Requirement already satisfied: zipp>=0.5 in /usr/local/lib/python3.6/dist-packages (from importlib-metadata>=0.20->spacy<3.1.0,>=3.0.0->en-core-web-sm==3.0.0) (3.4.0)\n",
            "Requirement already satisfied: pyparsing>=2.0.2 in /usr/local/lib/python3.6/dist-packages (from packaging>=20.0->spacy<3.1.0,>=3.0.0->en-core-web-sm==3.0.0) (2.4.7)\n",
            "Requirement already satisfied: dataclasses>=0.6 in /usr/local/lib/python3.6/dist-packages (from pydantic<1.8.0,>=1.7.1->spacy<3.1.0,>=3.0.0->en-core-web-sm==3.0.0) (0.8)\n",
            "Requirement already satisfied: certifi>=2017.4.17 in /usr/local/lib/python3.6/dist-packages (from requests<3.0.0,>=2.13.0->spacy<3.1.0,>=3.0.0->en-core-web-sm==3.0.0) (2020.12.5)\n",
            "Requirement already satisfied: idna<3,>=2.5 in /usr/local/lib/python3.6/dist-packages (from requests<3.0.0,>=2.13.0->spacy<3.1.0,>=3.0.0->en-core-web-sm==3.0.0) (2.10)\n",
            "Requirement already satisfied: chardet<4,>=3.0.2 in /usr/local/lib/python3.6/dist-packages (from requests<3.0.0,>=2.13.0->spacy<3.1.0,>=3.0.0->en-core-web-sm==3.0.0) (3.0.4)\n",
            "Requirement already satisfied: urllib3!=1.25.0,!=1.25.1,<1.26,>=1.21.1 in /usr/local/lib/python3.6/dist-packages (from requests<3.0.0,>=2.13.0->spacy<3.1.0,>=3.0.0->en-core-web-sm==3.0.0) (1.24.3)\n",
            "Requirement already satisfied: contextvars<3,>=2.4 in /usr/local/lib/python3.6/dist-packages (from thinc<8.1.0,>=8.0.0->spacy<3.1.0,>=3.0.0->en-core-web-sm==3.0.0) (2.4)\n",
            "Requirement already satisfied: immutables>=0.9 in /usr/local/lib/python3.6/dist-packages (from contextvars<3,>=2.4->thinc<8.1.0,>=8.0.0->spacy<3.1.0,>=3.0.0->en-core-web-sm==3.0.0) (0.14)\n",
            "Requirement already satisfied: click<7.2.0,>=7.1.1 in /usr/local/lib/python3.6/dist-packages (from typer<0.4.0,>=0.3.0->spacy<3.1.0,>=3.0.0->en-core-web-sm==3.0.0) (7.1.2)\n",
            "Requirement already satisfied: MarkupSafe>=0.23 in /usr/local/lib/python3.6/dist-packages (from jinja2->spacy<3.1.0,>=3.0.0->en-core-web-sm==3.0.0) (1.1.1)\n",
            "Requirement already satisfied: smart-open<4.0.0,>=2.2.0 in /usr/local/lib/python3.6/dist-packages (from pathy->spacy<3.1.0,>=3.0.0->en-core-web-sm==3.0.0) (3.0.0)\n",
            "\u001b[38;5;2m✔ Download and installation successful\u001b[0m\n",
            "You can now load the package via spacy.load('en_core_web_sm')\n"
          ],
          "name": "stdout"
        }
      ]
    },
    {
      "cell_type": "markdown",
      "metadata": {
        "id": "4JVHctkwoKxA"
      },
      "source": [
        "C.Co-reference resolution"
      ]
    },
    {
      "cell_type": "code",
      "metadata": {
        "colab": {
          "base_uri": "https://localhost:8080/",
          "height": 414
        },
        "id": "MBElL-jrojfb",
        "outputId": "514bfc88-8c59-45fc-de03-e0b400e58cee"
      },
      "source": [
        "import spacy\r\n",
        "import en_core_web_sm\r\n",
        "nlp = spacy.load('en_core_web_sm')\r\n",
        "doc=nlp(u\"Xi Jinping is a Chinese politician who has served as General Secretary of the Chinese Communist Party (CCP) and Chairman of the Central Military Commission (CMC) since 2012, and President of the People's Republic of China (PRC) since 2013. He has been the paramount leader of China, the most prominent political leader in the country, since 2012. The son of Chinese Communist veteran Xi Zhongxun, he was exiled to rural Yanchuan County as a teenager following his father's purge during the Cultural Revolutionandlived in a cave in the village of Liangjiahe, where he joined the CCP and worked as the party secretary.\")\r\n",
        "print(doc._.has_coref)\r\n",
        "print(doc._.coref_clusters)"
      ],
      "execution_count": 16,
      "outputs": [
        {
          "output_type": "error",
          "ename": "AttributeError",
          "evalue": "ignored",
          "traceback": [
            "\u001b[0;31m---------------------------------------------------------------------------\u001b[0m",
            "\u001b[0;31mAttributeError\u001b[0m                            Traceback (most recent call last)",
            "\u001b[0;32m<ipython-input-16-6cf7438216d5>\u001b[0m in \u001b[0;36m<module>\u001b[0;34m()\u001b[0m\n\u001b[1;32m      3\u001b[0m \u001b[0mnlp\u001b[0m \u001b[0;34m=\u001b[0m \u001b[0mspacy\u001b[0m\u001b[0;34m.\u001b[0m\u001b[0mload\u001b[0m\u001b[0;34m(\u001b[0m\u001b[0;34m'en_core_web_sm'\u001b[0m\u001b[0;34m)\u001b[0m\u001b[0;34m\u001b[0m\u001b[0;34m\u001b[0m\u001b[0m\n\u001b[1;32m      4\u001b[0m \u001b[0mdoc\u001b[0m\u001b[0;34m=\u001b[0m\u001b[0mnlp\u001b[0m\u001b[0;34m(\u001b[0m\u001b[0;34mu\"Xi Jinping is a Chinese politician who has served as General Secretary of the Chinese Communist Party (CCP) and Chairman of the Central Military Commission (CMC) since 2012, and President of the People's Republic of China (PRC) since 2013. He has been the paramount leader of China, the most prominent political leader in the country, since 2012. The son of Chinese Communist veteran Xi Zhongxun, he was exiled to rural Yanchuan County as a teenager following his father's purge during the Cultural Revolutionandlived in a cave in the village of Liangjiahe, where he joined the CCP and worked as the party secretary.\"\u001b[0m\u001b[0;34m)\u001b[0m\u001b[0;34m\u001b[0m\u001b[0;34m\u001b[0m\u001b[0m\n\u001b[0;32m----> 5\u001b[0;31m \u001b[0mprint\u001b[0m\u001b[0;34m(\u001b[0m\u001b[0mdoc\u001b[0m\u001b[0;34m.\u001b[0m\u001b[0m_\u001b[0m\u001b[0;34m.\u001b[0m\u001b[0mhas_coref\u001b[0m\u001b[0;34m)\u001b[0m\u001b[0;34m\u001b[0m\u001b[0;34m\u001b[0m\u001b[0m\n\u001b[0m\u001b[1;32m      6\u001b[0m \u001b[0mprint\u001b[0m\u001b[0;34m(\u001b[0m\u001b[0mdoc\u001b[0m\u001b[0;34m.\u001b[0m\u001b[0m_\u001b[0m\u001b[0;34m.\u001b[0m\u001b[0mcoref_clusters\u001b[0m\u001b[0;34m)\u001b[0m\u001b[0;34m\u001b[0m\u001b[0;34m\u001b[0m\u001b[0m\n",
            "\u001b[0;32m/usr/local/lib/python3.6/dist-packages/spacy/tokens/underscore.py\u001b[0m in \u001b[0;36m__getattr__\u001b[0;34m(self, name)\u001b[0m\n\u001b[1;32m     30\u001b[0m     \u001b[0;32mdef\u001b[0m \u001b[0m__getattr__\u001b[0m\u001b[0;34m(\u001b[0m\u001b[0mself\u001b[0m\u001b[0;34m,\u001b[0m \u001b[0mname\u001b[0m\u001b[0;34m)\u001b[0m\u001b[0;34m:\u001b[0m\u001b[0;34m\u001b[0m\u001b[0;34m\u001b[0m\u001b[0m\n\u001b[1;32m     31\u001b[0m         \u001b[0;32mif\u001b[0m \u001b[0mname\u001b[0m \u001b[0;32mnot\u001b[0m \u001b[0;32min\u001b[0m \u001b[0mself\u001b[0m\u001b[0;34m.\u001b[0m\u001b[0m_extensions\u001b[0m\u001b[0;34m:\u001b[0m\u001b[0;34m\u001b[0m\u001b[0;34m\u001b[0m\u001b[0m\n\u001b[0;32m---> 32\u001b[0;31m             \u001b[0;32mraise\u001b[0m \u001b[0mAttributeError\u001b[0m\u001b[0;34m(\u001b[0m\u001b[0mErrors\u001b[0m\u001b[0;34m.\u001b[0m\u001b[0mE046\u001b[0m\u001b[0;34m.\u001b[0m\u001b[0mformat\u001b[0m\u001b[0;34m(\u001b[0m\u001b[0mname\u001b[0m\u001b[0;34m=\u001b[0m\u001b[0mname\u001b[0m\u001b[0;34m)\u001b[0m\u001b[0;34m)\u001b[0m\u001b[0;34m\u001b[0m\u001b[0;34m\u001b[0m\u001b[0m\n\u001b[0m\u001b[1;32m     33\u001b[0m         \u001b[0mdefault\u001b[0m\u001b[0;34m,\u001b[0m \u001b[0mmethod\u001b[0m\u001b[0;34m,\u001b[0m \u001b[0mgetter\u001b[0m\u001b[0;34m,\u001b[0m \u001b[0msetter\u001b[0m \u001b[0;34m=\u001b[0m \u001b[0mself\u001b[0m\u001b[0;34m.\u001b[0m\u001b[0m_extensions\u001b[0m\u001b[0;34m[\u001b[0m\u001b[0mname\u001b[0m\u001b[0;34m]\u001b[0m\u001b[0;34m\u001b[0m\u001b[0;34m\u001b[0m\u001b[0m\n\u001b[1;32m     34\u001b[0m         \u001b[0;32mif\u001b[0m \u001b[0mgetter\u001b[0m \u001b[0;32mis\u001b[0m \u001b[0;32mnot\u001b[0m \u001b[0;32mNone\u001b[0m\u001b[0;34m:\u001b[0m\u001b[0;34m\u001b[0m\u001b[0;34m\u001b[0m\u001b[0m\n",
            "\u001b[0;31mAttributeError\u001b[0m: [E046] Can't retrieve unregistered extension attribute 'has_coref'. Did you forget to call the `set_extension` method?"
          ]
        }
      ]
    },
    {
      "cell_type": "markdown",
      "metadata": {
        "id": "KjAuXCNppouK"
      },
      "source": [
        "D. Lemmatization\r\n"
      ]
    },
    {
      "cell_type": "code",
      "metadata": {
        "colab": {
          "base_uri": "https://localhost:8080/"
        },
        "id": "RM6SR0OYpwF8",
        "outputId": "cba36db0-d1ec-47b9-901c-f76ba6efc70b"
      },
      "source": [
        "import spacy \r\n",
        "# Load English tokenizer, tagger, \r\n",
        "# parser, NER and word vectors \r\n",
        "nlp = spacy.load(\"en_core_web_sm\") \r\n",
        "text = \"Xi Jinping is a Chinese politician who has served as General Secretary of the Chinese Communist Party (CCP) and Chairman of the Central Military Commission (CMC) since 2012, and President of the People's Republic of China (PRC) since 2013. He has been the paramount leader of China, the most prominent political leader in the country, since 2012. The son of Chinese Communist veteran Xi Zhongxun, he was exiled to rural Yanchuan County as a teenager following his father's purge during the Cultural Revolutionandlived in a cave in the village of Liangjiahe, where he joined the CCP and worked as the party secretary.\"\r\n",
        "doc = nlp(text) \r\n",
        "for token in doc:\r\n",
        " print(token, token.lemma_)"
      ],
      "execution_count": 44,
      "outputs": [
        {
          "output_type": "stream",
          "text": [
            "Xi Xi\n",
            "Jinping Jinping\n",
            "is be\n",
            "a a\n",
            "Chinese chinese\n",
            "politician politician\n",
            "who who\n",
            "has have\n",
            "served serve\n",
            "as as\n",
            "General General\n",
            "Secretary Secretary\n",
            "of of\n",
            "the the\n",
            "Chinese Chinese\n",
            "Communist Communist\n",
            "Party Party\n",
            "( (\n",
            "CCP CCP\n",
            ") )\n",
            "and and\n",
            "Chairman Chairman\n",
            "of of\n",
            "the the\n",
            "Central Central\n",
            "Military Military\n",
            "Commission Commission\n",
            "( (\n",
            "CMC CMC\n",
            ") )\n",
            "since since\n",
            "2012 2012\n",
            ", ,\n",
            "and and\n",
            "President President\n",
            "of of\n",
            "the the\n",
            "People People\n",
            "'s 's\n",
            "Republic Republic\n",
            "of of\n",
            "China China\n",
            "( (\n",
            "PRC PRC\n",
            ") )\n",
            "since since\n",
            "2013 2013\n",
            ". .\n",
            "He -PRON-\n",
            "has have\n",
            "been be\n",
            "the the\n",
            "paramount paramount\n",
            "leader leader\n",
            "of of\n",
            "China China\n",
            ", ,\n",
            "the the\n",
            "most most\n",
            "prominent prominent\n",
            "political political\n",
            "leader leader\n",
            "in in\n",
            "the the\n",
            "country country\n",
            ", ,\n",
            "since since\n",
            "2012 2012\n",
            ". .\n",
            "The the\n",
            "son son\n",
            "of of\n",
            "Chinese Chinese\n",
            "Communist communist\n",
            "veteran veteran\n",
            "Xi Xi\n",
            "Zhongxun Zhongxun\n",
            ", ,\n",
            "he -PRON-\n",
            "was be\n",
            "exiled exile\n",
            "to to\n",
            "rural rural\n",
            "Yanchuan Yanchuan\n",
            "County County\n",
            "as as\n",
            "a a\n",
            "teenager teenager\n",
            "following follow\n",
            "his -PRON-\n",
            "father father\n",
            "'s 's\n",
            "purge purge\n",
            "during during\n",
            "the the\n",
            "Cultural Cultural\n",
            "Revolutionandlived revolutionandlive\n",
            "in in\n",
            "a a\n",
            "cave cave\n",
            "in in\n",
            "the the\n",
            "village village\n",
            "of of\n",
            "Liangjiahe Liangjiahe\n",
            ", ,\n",
            "where where\n",
            "he -PRON-\n",
            "joined join\n",
            "the the\n",
            "CCP CCP\n",
            "and and\n",
            "worked work\n",
            "as as\n",
            "the the\n",
            "party party\n",
            "secretary secretary\n",
            ". .\n"
          ],
          "name": "stdout"
        }
      ]
    },
    {
      "cell_type": "markdown",
      "metadata": {
        "id": "_Gwo9dv4t2eV"
      },
      "source": [
        "E.Prasing"
      ]
    },
    {
      "cell_type": "code",
      "metadata": {
        "colab": {
          "base_uri": "https://localhost:8080/"
        },
        "id": "yFFO1-w3T0Mi",
        "outputId": "049889bb-6018-4dc0-affc-4f478a50cac4"
      },
      "source": [
        "# Import required libraries \r\n",
        "import nltk \r\n",
        "nltk.download('punkt') \r\n",
        "nltk.download('averaged_perceptron_tagger') \r\n",
        "from nltk import pos_tag, word_tokenize, RegexpParser \r\n",
        "   \r\n",
        "# Example text \r\n",
        "text = \"Xi Jinping is a Chinese politician who has served as General Secretary of the Chinese Communist Party (CCP) and Chairman of the Central Military Commission (CMC) since 2012, and President of the People's Republic of China (PRC) since 2013. He has been the paramount leader of China, the most prominent political leader in the country, since 2012. The son of Chinese Communist veteran Xi Zhongxun, he was exiled to rural Yanchuan County as a teenager following his father's purge during the Cultural Revolutionandlived in a cave in the village of Liangjiahe, where he joined the CCP and worked as the party secretary.\"\r\n",
        "   \r\n",
        "# Find all parts of speech in above sentence \r\n",
        "tagged = pos_tag(word_tokenize(text)) \r\n",
        "   \r\n",
        "#Extract all parts of speech from any text \r\n",
        "chunker = RegexpParser(\"\"\" \r\n",
        "                       NP: {<DT>?<JJ>*<NN>}     \r\n",
        "                       P: {<IN>}                \r\n",
        "                       V: {<V.*>}               \r\n",
        "                       PP: {<P> <NP>}           \r\n",
        "                       VP: {<V> <NP|PP>*}       \r\n",
        "                       \"\"\") \r\n",
        "  \r\n",
        "# Print all parts of speech in above sentence \r\n",
        "output = chunker.parse(tagged) \r\n",
        "print(\"After Extracting\\n\", output) \r\n"
      ],
      "execution_count": 36,
      "outputs": [
        {
          "output_type": "stream",
          "text": [
            "[nltk_data] Downloading package punkt to /root/nltk_data...\n",
            "[nltk_data]   Package punkt is already up-to-date!\n",
            "[nltk_data] Downloading package averaged_perceptron_tagger to\n",
            "[nltk_data]     /root/nltk_data...\n",
            "[nltk_data]   Package averaged_perceptron_tagger is already up-to-\n",
            "[nltk_data]       date!\n",
            "After Extracting\n",
            " (S\n",
            "  (NP Xi/NN)\n",
            "  Jinping/NNP\n",
            "  (VP (V is/VBZ) (NP a/DT Chinese/JJ politician/NN))\n",
            "  who/WP\n",
            "  (VP (V has/VBZ))\n",
            "  (VP (V served/VBN))\n",
            "  (P as/IN)\n",
            "  General/NNP\n",
            "  Secretary/NNP\n",
            "  (P of/IN)\n",
            "  the/DT\n",
            "  Chinese/NNP\n",
            "  Communist/NNP\n",
            "  Party/NNP\n",
            "  (/(\n",
            "  CCP/NNP\n",
            "  )/)\n",
            "  and/CC\n",
            "  Chairman/NNP\n",
            "  (P of/IN)\n",
            "  the/DT\n",
            "  Central/NNP\n",
            "  Military/NNP\n",
            "  Commission/NNP\n",
            "  (/(\n",
            "  CMC/NNP\n",
            "  )/)\n",
            "  (P since/IN)\n",
            "  2012/CD\n",
            "  ,/,\n",
            "  and/CC\n",
            "  President/NNP\n",
            "  (P of/IN)\n",
            "  the/DT\n",
            "  People/NNP\n",
            "  's/POS\n",
            "  Republic/NNP\n",
            "  (P of/IN)\n",
            "  China/NNP\n",
            "  (/(\n",
            "  PRC/NNP\n",
            "  )/)\n",
            "  (P since/IN)\n",
            "  2013/CD\n",
            "  ./.\n",
            "  He/PRP\n",
            "  (VP (V has/VBZ))\n",
            "  (VP (V been/VBN) (NP the/DT paramount/JJ leader/NN))\n",
            "  (P of/IN)\n",
            "  China/NNP\n",
            "  ,/,\n",
            "  the/DT\n",
            "  most/RBS\n",
            "  (NP prominent/JJ political/JJ leader/NN)\n",
            "  (PP (P in/IN) (NP the/DT country/NN))\n",
            "  ,/,\n",
            "  (P since/IN)\n",
            "  2012/CD\n",
            "  ./.\n",
            "  (NP The/DT son/NN)\n",
            "  (P of/IN)\n",
            "  Chinese/JJ\n",
            "  Communist/NNP\n",
            "  (NP veteran/NN)\n",
            "  Xi/NNP\n",
            "  Zhongxun/NNP\n",
            "  ,/,\n",
            "  he/PRP\n",
            "  (VP (V was/VBD))\n",
            "  (VP (V exiled/VBN))\n",
            "  to/TO\n",
            "  rural/JJ\n",
            "  Yanchuan/NNP\n",
            "  County/NNP\n",
            "  (PP (P as/IN) (NP a/DT teenager/NN))\n",
            "  (VP (V following/VBG))\n",
            "  his/PRP$\n",
            "  (NP father/NN)\n",
            "  's/POS\n",
            "  (NP purge/NN)\n",
            "  (P during/IN)\n",
            "  the/DT\n",
            "  Cultural/NNP\n",
            "  Revolutionandlived/NNP\n",
            "  (PP (P in/IN) (NP a/DT cave/NN))\n",
            "  (PP (P in/IN) (NP the/DT village/NN))\n",
            "  (P of/IN)\n",
            "  Liangjiahe/NNP\n",
            "  ,/,\n",
            "  where/WRB\n",
            "  he/PRP\n",
            "  (VP (V joined/VBD))\n",
            "  the/DT\n",
            "  CCP/NNP\n",
            "  and/CC\n",
            "  (VP\n",
            "    (V worked/VBD)\n",
            "    (PP (P as/IN) (NP the/DT party/NN))\n",
            "    (NP secretary/NN))\n",
            "  ./.)\n"
          ],
          "name": "stdout"
        }
      ]
    }
  ]
}