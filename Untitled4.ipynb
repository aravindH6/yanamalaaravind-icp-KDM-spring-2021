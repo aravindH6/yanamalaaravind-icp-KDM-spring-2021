{
  "nbformat": 4,
  "nbformat_minor": 0,
  "metadata": {
    "colab": {
      "name": "Untitled4.ipynb",
      "provenance": [],
      "authorship_tag": "ABX9TyNKDXPb2Hd441amVXPAhQlf",
      "include_colab_link": true
    },
    "kernelspec": {
      "name": "python3",
      "display_name": "Python 3"
    }
  },
  "cells": [
    {
      "cell_type": "markdown",
      "metadata": {
        "id": "view-in-github",
        "colab_type": "text"
      },
      "source": [
        "<a href=\"https://colab.research.google.com/github/aravindH6/yanamalaaravind-icp-KDM-spring-2021/blob/main/Untitled4.ipynb\" target=\"_parent\"><img src=\"https://colab.research.google.com/assets/colab-badge.svg\" alt=\"Open In Colab\"/></a>"
      ]
    },
    {
      "cell_type": "code",
      "metadata": {
        "id": "nkd5PnQ98OAx"
      },
      "source": [
        ""
      ],
      "execution_count": null,
      "outputs": []
    },
    {
      "cell_type": "code",
      "metadata": {
        "colab": {
          "base_uri": "https://localhost:8080/"
        },
        "id": "qjg4lPDC8Vfi",
        "outputId": "acceed1f-4edd-4654-e5ee-ac76fdcce9db"
      },
      "source": [
        "from google.colab import drive\n",
        "drive.mount('/content/drive')"
      ],
      "execution_count": 1,
      "outputs": [
        {
          "output_type": "stream",
          "text": [
            "Mounted at /content/drive\n"
          ],
          "name": "stdout"
        }
      ]
    },
    {
      "cell_type": "code",
      "metadata": {
        "colab": {
          "base_uri": "https://localhost:8080/"
        },
        "id": "Hdsw7EA_8h44",
        "outputId": "c1959eba-1201-45b8-f964-212910357761"
      },
      "source": [
        "#importing all libraries\r\n",
        "import nltk\r\n",
        "nltk.download('punkt')\r\n",
        "import pandas as pd\r\n",
        "from nltk.tokenize import sent_tokenize\r\n",
        "from nltk.tokenize import word_tokenize\r\n",
        "from nltk.probability import FreqDist\r\n",
        "import matplotlib.pyplot as plt\r\n"
      ],
      "execution_count": 2,
      "outputs": [
        {
          "output_type": "stream",
          "text": [
            "[nltk_data] Downloading package punkt to /root/nltk_data...\n",
            "[nltk_data]   Unzipping tokenizers/punkt.zip.\n"
          ],
          "name": "stdout"
        }
      ]
    },
    {
      "cell_type": "code",
      "metadata": {
        "colab": {
          "base_uri": "https://localhost:8080/",
          "height": 81
        },
        "id": "EtaiF2mK9jBs",
        "outputId": "6700753e-a6f2-4885-c1e4-e1cf3c97c83a"
      },
      "source": [
        "dataset=pd.read_csv(\"/content/task3.txt\",delimiter=\"\\t\")\r\n",
        "dataset"
      ],
      "execution_count": 3,
      "outputs": [
        {
          "output_type": "execute_result",
          "data": {
            "text/html": [
              "<div>\n",
              "<style scoped>\n",
              "    .dataframe tbody tr th:only-of-type {\n",
              "        vertical-align: middle;\n",
              "    }\n",
              "\n",
              "    .dataframe tbody tr th {\n",
              "        vertical-align: top;\n",
              "    }\n",
              "\n",
              "    .dataframe thead th {\n",
              "        text-align: right;\n",
              "    }\n",
              "</style>\n",
              "<table border=\"1\" class=\"dataframe\">\n",
              "  <thead>\n",
              "    <tr style=\"text-align: right;\">\n",
              "      <th></th>\n",
              "      <th>Wikis are enabled by wiki software, otherwise known as wiki engines. A wiki engine, being a form of a content management system, differs from other web-based systems such as blog software, in that the content is created without any defined owner or leader, and wikis have little inherent structure, allowing structure to emerge according to the needs of the users</th>\n",
              "    </tr>\n",
              "  </thead>\n",
              "  <tbody>\n",
              "  </tbody>\n",
              "</table>\n",
              "</div>"
            ],
            "text/plain": [
              "Empty DataFrame\n",
              "Columns: [Wikis are enabled by wiki software, otherwise known as wiki engines. A wiki engine, being a form of a content management system, differs from other web-based systems such as blog software, in that the content is created without any defined owner or leader, and wikis have little inherent structure, allowing structure to emerge according to the needs of the users]\n",
              "Index: []"
            ]
          },
          "metadata": {
            "tags": []
          },
          "execution_count": 3
        }
      ]
    },
    {
      "cell_type": "code",
      "metadata": {
        "colab": {
          "base_uri": "https://localhost:8080/",
          "height": 70
        },
        "id": "jmNfQ27X935n",
        "outputId": "f36e2962-d2f1-4994-9540-7f6b9ee122ce"
      },
      "source": [
        "text=dataset.to_string()\r\n",
        "text"
      ],
      "execution_count": 4,
      "outputs": [
        {
          "output_type": "execute_result",
          "data": {
            "application/vnd.google.colaboratory.intrinsic+json": {
              "type": "string"
            },
            "text/plain": [
              "'Empty DataFrame\\nColumns: [Wikis are enabled by wiki software, otherwise known as wiki engines. A wiki engine, being a form of a content management system, differs from other web-based systems such as blog software, in that the content is created without any defined owner or leader, and wikis have little inherent structure, allowing structure to emerge according to the needs of the users]\\nIndex: []'"
            ]
          },
          "metadata": {
            "tags": []
          },
          "execution_count": 4
        }
      ]
    },
    {
      "cell_type": "code",
      "metadata": {
        "colab": {
          "base_uri": "https://localhost:8080/"
        },
        "id": "43s1x9Wf-D6S",
        "outputId": "bc1110a6-cf78-420b-ec6f-2d9c5f36c551"
      },
      "source": [
        "tokenized_text=sent_tokenize(text)\r\n",
        "print(tokenized_text)"
      ],
      "execution_count": 5,
      "outputs": [
        {
          "output_type": "stream",
          "text": [
            "['Empty DataFrame\\nColumns: [Wikis are enabled by wiki software, otherwise known as wiki engines.', 'A wiki engine, being a form of a content management system, differs from other web-based systems such as blog software, in that the content is created without any defined owner or leader, and wikis have little inherent structure, allowing structure to emerge according to the needs of the users]\\nIndex: []']\n"
          ],
          "name": "stdout"
        }
      ]
    },
    {
      "cell_type": "code",
      "metadata": {
        "colab": {
          "base_uri": "https://localhost:8080/"
        },
        "id": "R2X-zZtm-UjJ",
        "outputId": "2a91ad83-7ca3-471d-f07e-e2bd0dac9c26"
      },
      "source": [
        "tokenized_word=word_tokenize(text)\r\n",
        "print(tokenized_word)\r\n",
        "print(len(tokenized_word))"
      ],
      "execution_count": 7,
      "outputs": [
        {
          "output_type": "stream",
          "text": [
            "['Empty', 'DataFrame', 'Columns', ':', '[', 'Wikis', 'are', 'enabled', 'by', 'wiki', 'software', ',', 'otherwise', 'known', 'as', 'wiki', 'engines', '.', 'A', 'wiki', 'engine', ',', 'being', 'a', 'form', 'of', 'a', 'content', 'management', 'system', ',', 'differs', 'from', 'other', 'web-based', 'systems', 'such', 'as', 'blog', 'software', ',', 'in', 'that', 'the', 'content', 'is', 'created', 'without', 'any', 'defined', 'owner', 'or', 'leader', ',', 'and', 'wikis', 'have', 'little', 'inherent', 'structure', ',', 'allowing', 'structure', 'to', 'emerge', 'according', 'to', 'the', 'needs', 'of', 'the', 'users', ']', 'Index', ':', '[', ']']\n",
            "77\n"
          ],
          "name": "stdout"
        }
      ]
    },
    {
      "cell_type": "code",
      "metadata": {
        "colab": {
          "base_uri": "https://localhost:8080/"
        },
        "id": "sQulmgpy-xI6",
        "outputId": "4daf96db-fedb-4568-a0eb-652f6a39f3aa"
      },
      "source": [
        "fdlist=FreqDist(tokenized_word)\r\n",
        "print(fdlist)"
      ],
      "execution_count": 8,
      "outputs": [
        {
          "output_type": "stream",
          "text": [
            "<FreqDist with 58 samples and 77 outcomes>\n"
          ],
          "name": "stdout"
        }
      ]
    },
    {
      "cell_type": "code",
      "metadata": {
        "colab": {
          "base_uri": "https://localhost:8080/"
        },
        "id": "vFvdmxUp-9mK",
        "outputId": "40da78b3-e5e9-4f09-91f6-0a64c8b3e7df"
      },
      "source": [
        "fdlist.most_common(2)"
      ],
      "execution_count": 9,
      "outputs": [
        {
          "output_type": "execute_result",
          "data": {
            "text/plain": [
              "[(',', 6), ('wiki', 3)]"
            ]
          },
          "metadata": {
            "tags": []
          },
          "execution_count": 9
        }
      ]
    },
    {
      "cell_type": "code",
      "metadata": {
        "colab": {
          "base_uri": "https://localhost:8080/",
          "height": 354
        },
        "id": "weexg9EU_C_c",
        "outputId": "ca63fcc6-ba5f-48b1-9d40-1a4fee9309fe"
      },
      "source": [
        "v=fdlist.plot(85,cumulative=False)\r\n",
        "plt.show"
      ],
      "execution_count": 10,
      "outputs": [
        {
          "output_type": "display_data",
          "data": {
            "image/png": "[encoded data removed]",
            "text/plain": [
              "<Figure size 432x288 with 1 Axes>"
            ]
          },
          "metadata": {
            "tags": [],
            "needs_background": "light"
          }
        },
        {
          "output_type": "execute_result",
          "data": {
            "text/plain": [
              "<function matplotlib.pyplot.show>"
            ]
          },
          "metadata": {
            "tags": []
          },
          "execution_count": 10
        }
      ]
    }
  ]
}