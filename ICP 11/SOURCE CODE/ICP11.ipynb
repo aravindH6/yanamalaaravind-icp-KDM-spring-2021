{
  "nbformat": 4,
  "nbformat_minor": 0,
  "metadata": {
    "colab": {
      "name": "ICP11.ipynb",
      "provenance": [],
      "include_colab_link": true
    },
    "kernelspec": {
      "name": "python3",
      "display_name": "Python 3"
    },
    "language_info": {
      "name": "python"
    },
    "accelerator": "GPU"
  },
  "cells": [
    {
      "cell_type": "markdown",
      "metadata": {
        "id": "view-in-github",
        "colab_type": "text"
      },
      "source": [
        "<a href=\"https://colab.research.google.com/github/aravindH6/yanamalaaravind-icp-KDM-spring-2021/blob/main/ICP11.ipynb\" target=\"_parent\"><img src=\"https://colab.research.google.com/assets/colab-badge.svg\" alt=\"Open In Colab\"/></a>"
      ]
    },
    {
      "cell_type": "markdown",
      "metadata": {
        "id": "-jFFRbCqzRY8"
      },
      "source": [
        "In this ICP we will build 2 feed forward network.\n",
        "\n",
        ">Auto Encoder\n",
        "\n",
        ">CNN\n",
        "\n",
        ">Data Set\n",
        "\n",
        ">>The MNIST database of handwritten digits. Training set of 60,000 examples, and a test set of 10,000 examples\n"
      ]
    },
    {
      "cell_type": "code",
      "metadata": {
        "colab": {
          "base_uri": "https://localhost:8080/"
        },
        "id": "wvZTRiVuYssS",
        "outputId": "6a6b61d7-5bd4-4f84-8ecc-f04dd2ea07e2"
      },
      "source": [
        "from google.colab import drive\n",
        "drive.mount('/content/drive')"
      ],
      "execution_count": 1,
      "outputs": [
        {
          "output_type": "stream",
          "text": [
            "Mounted at /content/drive\n"
          ],
          "name": "stdout"
        }
      ]
    },
    {
      "cell_type": "markdown",
      "metadata": {
        "id": "XGzIpl7P0U6_"
      },
      "source": [
        "Auto Encoders:\n",
        "\n",
        ">>Data compression is a big topic that’s used in computer vision, computer networks, computer architecture, and many other fields.The point of data compression is to convert our input into a smaller representation that we recreate, to a degree of quality. This smaller representation is what would be passed around, and, when anyone needed the original, they would reconstruct it from the smaller representation.Autoencoders are unsupervised neural networks that use machine learning to do this compression \n"
      ]
    },
    {
      "cell_type": "code",
      "metadata": {
        "id": "r9_cWbPki6tv"
      },
      "source": [
        "from keras.layers import Input, Dense\n",
        "from keras.models import Model\n",
        "from keras.datasets import mnist\n",
        "from keras.datasets import cifar10\n",
        " \n",
        "import numpy as np\n",
        "import matplotlib.pyplot as plt\n",
        "\n"
      ],
      "execution_count": 22,
      "outputs": []
    },
    {
      "cell_type": "markdown",
      "metadata": {
        "id": "fZMxXfcA0wIW"
      },
      "source": [
        "Load  cifar100 handwritten digits dataset.\n",
        "\n",
        "There is no need to load labels because autoencoders are unsupervised.\n",
        "\n",
        "Rescale our images from 0 – 255 to 0 – 1 and flatten them out.\n"
      ]
    },
    {
      "cell_type": "code",
      "metadata": {
        "id": "-z3fLLrtjO1X"
      },
      "source": [
        "#Notice that we’re not loading any of the labels because autoencoders are unsupervised\n",
        "(X_train, _), (X_test, _) = cifar10.load_data()\n",
        "# rescale our images from 0 – 255 to 0 – 1 and flatten them out.\n",
        "\n",
        "X_train = X_train.astype('float32') / 255.\n",
        "X_test = X_test.astype('float32') / 255.\n",
        "X_train = X_train.reshape((X_train.shape[0], -1))\n",
        "X_test = X_test.reshape((X_test.shape[0], -1))"
      ],
      "execution_count": 26,
      "outputs": []
    },
    {
      "cell_type": "code",
      "metadata": {
        "colab": {
          "base_uri": "https://localhost:8080/"
        },
        "id": "MceFF_0BjO9O",
        "outputId": "d217424f-e370-45d1-a464-99c4d9f17c96"
      },
      "source": [
        "X_train.shape"
      ],
      "execution_count": 27,
      "outputs": [
        {
          "output_type": "execute_result",
          "data": {
            "text/plain": [
              "(50000, 3072)"
            ]
          },
          "metadata": {
            "tags": []
          },
          "execution_count": 27
        }
      ]
    },
    {
      "cell_type": "code",
      "metadata": {
        "colab": {
          "base_uri": "https://localhost:8080/"
        },
        "id": "BupxtkW-jPDk",
        "outputId": "6ac1fdff-3ece-459f-981e-fc70bfcfb9d6"
      },
      "source": [
        "X_test.shape"
      ],
      "execution_count": 28,
      "outputs": [
        {
          "output_type": "execute_result",
          "data": {
            "text/plain": [
              "(10000, 3072)"
            ]
          },
          "metadata": {
            "tags": []
          },
          "execution_count": 28
        }
      ]
    },
    {
      "cell_type": "code",
      "metadata": {
        "id": "4tzUyrr7rBUg"
      },
      "source": [
        "INPUT_SIZE = 3072\n",
        "ENCODING_SIZE = 64"
      ],
      "execution_count": 29,
      "outputs": []
    },
    {
      "cell_type": "markdown",
      "metadata": {
        "id": "-h3DN2WW1Hjn"
      },
      "source": [
        "Create autoencoder\n",
        "\t\n",
        "Use ReLU  activation functions \n",
        "\n",
        "create constants for our input size and our encoding size. \n",
        "\n",
        "reduce our input from 784 -> 512 -> 256 -> 128 -> 64, encoder path\n",
        "\n",
        "then expand it back up 64 -> 128 -> 256 -> 512 -> 784, decoder path\n"
      ]
    },
    {
      "cell_type": "code",
      "metadata": {
        "id": "oacp6YGKjhtR"
      },
      "source": [
        "#reduce our input from 784 -> 512 -> 256 -> 128 -> 64 (encoder path), then expand it back up 64 -> 128 -> 256 -> 512 -> 784(decoder path).\n",
        "# Also notice the relu activation function\n",
        "input_img = Input(shape=(INPUT_SIZE,))\n",
        "encoded = Dense(1024, activation='relu')(input_img)\n",
        "encoded = Dense(512, activation='relu')(encoded)\n",
        "encoded = Dense(256, activation='relu')(encoded)\n",
        "encoded = Dense(128, activation='relu')(encoded)\n",
        "encoded = Dense(ENCODING_SIZE, activation='relu')(encoded)"
      ],
      "execution_count": 30,
      "outputs": []
    },
    {
      "cell_type": "code",
      "metadata": {
        "id": "MSF9HPsAj2ns"
      },
      "source": [
        "decoded = Dense(128, activation='relu')(encoded)\n",
        "decoded = Dense(256, activation='relu')(decoded)\n",
        "decoded = Dense(512, activation='relu')(decoded)\n",
        "decoded = Dense(1024, activation='relu')(decoded)\n",
        "decoded = Dense(INPUT_SIZE, activation='relu')(decoded)\n"
      ],
      "execution_count": 31,
      "outputs": []
    },
    {
      "cell_type": "code",
      "metadata": {
        "id": "1tMXFCw5j9lB"
      },
      "source": [
        "autoencoder = Model(input_img, decoded)"
      ],
      "execution_count": 32,
      "outputs": []
    },
    {
      "cell_type": "markdown",
      "metadata": {
        "id": "2awwn1Hw11C-"
      },
      "source": [
        "Training the model and then making the prediction \n",
        "\n",
        "Build and train the model.\n",
        "\n",
        "Use the ADAM optimizer and mean squared error loss (the Euclidean distance/loss) between the input and reconstruction\n",
        "\n",
        "encode and decode the test set to see how well model is performing\n",
        "\n"
      ]
    },
    {
      "cell_type": "code",
      "metadata": {
        "colab": {
          "base_uri": "https://localhost:8080/"
        },
        "id": "jZ0OekOij_hR",
        "outputId": "58c5f8f4-9d57-4f45-da33-6a6fa8beeb00"
      },
      "source": [
        "#using ADAM optimizer and mean squared error loss (the Euclidean distance/loss) between the input and reconstruction\n",
        "autoencoder.compile(optimizer='adam', loss='mean_squared_error',)\n",
        "autoencoder.fit(X_train, X_train, epochs=70, batch_size=256, shuffle=True, validation_split=0.2)"
      ],
      "execution_count": 33,
      "outputs": [
        {
          "output_type": "stream",
          "text": [
            "Epoch 1/70\n",
            "157/157 [==============================] - 2s 10ms/step - loss: 0.1481 - val_loss: 0.0619\n",
            "Epoch 2/70\n",
            "157/157 [==============================] - 1s 9ms/step - loss: 0.0574 - val_loss: 0.0448\n",
            "Epoch 3/70\n",
            "157/157 [==============================] - 1s 9ms/step - loss: 0.0432 - val_loss: 0.0361\n",
            "Epoch 4/70\n",
            "157/157 [==============================] - 1s 9ms/step - loss: 0.0354 - val_loss: 0.0316\n",
            "Epoch 5/70\n",
            "157/157 [==============================] - 1s 9ms/step - loss: 0.0310 - val_loss: 0.0264\n",
            "Epoch 6/70\n",
            "157/157 [==============================] - 1s 9ms/step - loss: 0.0266 - val_loss: 0.0259\n",
            "Epoch 7/70\n",
            "157/157 [==============================] - 1s 9ms/step - loss: 0.0259 - val_loss: 0.0256\n",
            "Epoch 8/70\n",
            "157/157 [==============================] - 1s 9ms/step - loss: 0.0256 - val_loss: 0.0236\n",
            "Epoch 9/70\n",
            "157/157 [==============================] - 1s 9ms/step - loss: 0.0236 - val_loss: 0.0223\n",
            "Epoch 10/70\n",
            "157/157 [==============================] - 1s 9ms/step - loss: 0.0225 - val_loss: 0.0221\n",
            "Epoch 11/70\n",
            "157/157 [==============================] - 1s 9ms/step - loss: 0.0221 - val_loss: 0.0215\n",
            "Epoch 12/70\n",
            "157/157 [==============================] - 1s 9ms/step - loss: 0.0216 - val_loss: 0.0213\n",
            "Epoch 13/70\n",
            "157/157 [==============================] - 1s 9ms/step - loss: 0.0211 - val_loss: 0.0205\n",
            "Epoch 14/70\n",
            "157/157 [==============================] - 1s 9ms/step - loss: 0.0205 - val_loss: 0.0205\n",
            "Epoch 15/70\n",
            "157/157 [==============================] - 1s 9ms/step - loss: 0.0198 - val_loss: 0.0194\n",
            "Epoch 16/70\n",
            "157/157 [==============================] - 1s 9ms/step - loss: 0.0192 - val_loss: 0.0190\n",
            "Epoch 17/70\n",
            "157/157 [==============================] - 1s 9ms/step - loss: 0.0190 - val_loss: 0.0183\n",
            "Epoch 18/70\n",
            "157/157 [==============================] - 1s 9ms/step - loss: 0.0183 - val_loss: 0.0178\n",
            "Epoch 19/70\n",
            "157/157 [==============================] - 1s 9ms/step - loss: 0.0179 - val_loss: 0.0174\n",
            "Epoch 20/70\n",
            "157/157 [==============================] - 1s 9ms/step - loss: 0.0175 - val_loss: 0.0178\n",
            "Epoch 21/70\n",
            "157/157 [==============================] - 1s 9ms/step - loss: 0.0176 - val_loss: 0.0173\n",
            "Epoch 22/70\n",
            "157/157 [==============================] - 1s 9ms/step - loss: 0.0171 - val_loss: 0.0170\n",
            "Epoch 23/70\n",
            "157/157 [==============================] - 1s 9ms/step - loss: 0.0170 - val_loss: 0.0168\n",
            "Epoch 24/70\n",
            "157/157 [==============================] - 1s 9ms/step - loss: 0.0168 - val_loss: 0.0168\n",
            "Epoch 25/70\n",
            "157/157 [==============================] - 1s 9ms/step - loss: 0.0167 - val_loss: 0.0168\n",
            "Epoch 26/70\n",
            "157/157 [==============================] - 1s 9ms/step - loss: 0.0166 - val_loss: 0.0170\n",
            "Epoch 27/70\n",
            "157/157 [==============================] - 1s 9ms/step - loss: 0.0165 - val_loss: 0.0162\n",
            "Epoch 28/70\n",
            "157/157 [==============================] - 1s 9ms/step - loss: 0.0162 - val_loss: 0.0160\n",
            "Epoch 29/70\n",
            "157/157 [==============================] - 1s 9ms/step - loss: 0.0159 - val_loss: 0.0161\n",
            "Epoch 30/70\n",
            "157/157 [==============================] - 1s 9ms/step - loss: 0.0159 - val_loss: 0.0158\n",
            "Epoch 31/70\n",
            "157/157 [==============================] - 1s 9ms/step - loss: 0.0157 - val_loss: 0.0161\n",
            "Epoch 32/70\n",
            "157/157 [==============================] - 1s 9ms/step - loss: 0.0158 - val_loss: 0.0159\n",
            "Epoch 33/70\n",
            "157/157 [==============================] - 1s 9ms/step - loss: 0.0156 - val_loss: 0.0156\n",
            "Epoch 34/70\n",
            "157/157 [==============================] - 1s 9ms/step - loss: 0.0156 - val_loss: 0.0155\n",
            "Epoch 35/70\n",
            "157/157 [==============================] - 1s 9ms/step - loss: 0.0154 - val_loss: 0.0155\n",
            "Epoch 36/70\n",
            "157/157 [==============================] - 1s 9ms/step - loss: 0.0152 - val_loss: 0.0156\n",
            "Epoch 37/70\n",
            "157/157 [==============================] - 1s 9ms/step - loss: 0.0152 - val_loss: 0.0154\n",
            "Epoch 38/70\n",
            "157/157 [==============================] - 1s 9ms/step - loss: 0.0151 - val_loss: 0.0153\n",
            "Epoch 39/70\n",
            "157/157 [==============================] - 1s 9ms/step - loss: 0.0150 - val_loss: 0.0150\n",
            "Epoch 40/70\n",
            "157/157 [==============================] - 1s 9ms/step - loss: 0.0147 - val_loss: 0.0160\n",
            "Epoch 41/70\n",
            "157/157 [==============================] - 1s 9ms/step - loss: 0.0150 - val_loss: 0.0147\n",
            "Epoch 42/70\n",
            "157/157 [==============================] - 1s 9ms/step - loss: 0.0146 - val_loss: 0.0149\n",
            "Epoch 43/70\n",
            "157/157 [==============================] - 1s 9ms/step - loss: 0.0144 - val_loss: 0.0149\n",
            "Epoch 44/70\n",
            "157/157 [==============================] - 1s 9ms/step - loss: 0.0143 - val_loss: 0.0146\n",
            "Epoch 45/70\n",
            "157/157 [==============================] - 1s 9ms/step - loss: 0.0142 - val_loss: 0.0147\n",
            "Epoch 46/70\n",
            "157/157 [==============================] - 1s 9ms/step - loss: 0.0142 - val_loss: 0.0149\n",
            "Epoch 47/70\n",
            "157/157 [==============================] - 1s 9ms/step - loss: 0.0144 - val_loss: 0.0145\n",
            "Epoch 48/70\n",
            "157/157 [==============================] - 1s 9ms/step - loss: 0.0141 - val_loss: 0.0145\n",
            "Epoch 49/70\n",
            "157/157 [==============================] - 1s 9ms/step - loss: 0.0141 - val_loss: 0.0148\n",
            "Epoch 50/70\n",
            "157/157 [==============================] - 1s 9ms/step - loss: 0.0140 - val_loss: 0.0145\n",
            "Epoch 51/70\n",
            "157/157 [==============================] - 1s 9ms/step - loss: 0.0140 - val_loss: 0.0146\n",
            "Epoch 52/70\n",
            "157/157 [==============================] - 1s 9ms/step - loss: 0.0139 - val_loss: 0.0145\n",
            "Epoch 53/70\n",
            "157/157 [==============================] - 1s 9ms/step - loss: 0.0139 - val_loss: 0.0142\n",
            "Epoch 54/70\n",
            "157/157 [==============================] - 1s 9ms/step - loss: 0.0137 - val_loss: 0.0141\n",
            "Epoch 55/70\n",
            "157/157 [==============================] - 1s 9ms/step - loss: 0.0137 - val_loss: 0.0142\n",
            "Epoch 56/70\n",
            "157/157 [==============================] - 1s 9ms/step - loss: 0.0138 - val_loss: 0.0143\n",
            "Epoch 57/70\n",
            "152/157 [============================>.] - ETA: 0s - loss: 0.0136Epoch 58/70\n",
            "157/157 [==============================] - 1s 9ms/step - loss: 0.0135 - val_loss: 0.0142\n",
            "Epoch 59/70\n",
            "157/157 [==============================] - 1s 9ms/step - loss: 0.0136 - val_loss: 0.0141\n",
            "Epoch 60/70\n",
            "157/157 [==============================] - 1s 9ms/step - loss: 0.0134 - val_loss: 0.0142\n",
            "Epoch 61/70\n",
            "157/157 [==============================] - 1s 9ms/step - loss: 0.0136 - val_loss: 0.0141\n",
            "Epoch 62/70\n",
            "157/157 [==============================] - 1s 9ms/step - loss: 0.0134 - val_loss: 0.0141\n",
            "Epoch 63/70\n",
            "157/157 [==============================] - 1s 9ms/step - loss: 0.0134 - val_loss: 0.0144\n",
            "Epoch 64/70\n",
            "157/157 [==============================] - 1s 9ms/step - loss: 0.0134 - val_loss: 0.0143\n",
            "Epoch 65/70\n",
            "157/157 [==============================] - 1s 9ms/step - loss: 0.0132 - val_loss: 0.0141\n",
            "Epoch 66/70\n",
            "157/157 [==============================] - 1s 9ms/step - loss: 0.0133 - val_loss: 0.0142\n",
            "Epoch 67/70\n",
            "157/157 [==============================] - 1s 9ms/step - loss: 0.0133 - val_loss: 0.0139\n",
            "Epoch 68/70\n",
            "157/157 [==============================] - 1s 9ms/step - loss: 0.0131 - val_loss: 0.0140\n",
            "Epoch 69/70\n",
            "157/157 [==============================] - 1s 9ms/step - loss: 0.0132 - val_loss: 0.0143\n",
            "Epoch 70/70\n",
            "157/157 [==============================] - 1s 9ms/step - loss: 0.0132 - val_loss: 0.0141\n"
          ],
          "name": "stdout"
        },
        {
          "output_type": "execute_result",
          "data": {
            "text/plain": [
              "<tensorflow.python.keras.callbacks.History at 0x7fa71e0f1c50>"
            ]
          },
          "metadata": {
            "tags": []
          },
          "execution_count": 33
        }
      ]
    },
    {
      "cell_type": "code",
      "metadata": {
        "id": "SmLdgFuLkHLE"
      },
      "source": [
        "#After our autoencoder has trained, we can try to encode and decode the test set to see how well our autoencoder can compress\n",
        "decoded_imgs = autoencoder.predict(X_test)"
      ],
      "execution_count": 34,
      "outputs": []
    },
    {
      "cell_type": "markdown",
      "metadata": {
        "id": "l9AV9WA32DO4"
      },
      "source": [
        "Visvualize the results "
      ]
    },
    {
      "cell_type": "code",
      "metadata": {
        "colab": {
          "base_uri": "https://localhost:8080/",
          "height": 188
        },
        "id": "4QGe9UvVu2gL",
        "outputId": "48bba563-c35f-4b4a-9dbe-340ee3be0f33"
      },
      "source": [
        "\n",
        "plt.figure(figsize=(30, 4))\n",
        "for i in range(10):\n",
        "    # original\n",
        "    plt.subplot(2, 10, i + 1)\n",
        "    plt.imshow(X_test[i].reshape(32, 32, 3))\n",
        "    plt.gray()\n",
        "    plt.axis('off')\n",
        " \n",
        "    # reconstruction\n",
        "    plt.subplot(2, 10, i + 1 + 10)\n",
        "    plt.imshow(decoded_imgs[i].reshape(32, 32, 3))\n",
        "    plt.gray()\n",
        "    plt.axis('off')\n",
        " \n",
        "plt.tight_layout()\n",
        "plt.show()"
      ],
      "execution_count": 36,
      "outputs": [
        {
          "output_type": "stream",
          "text": [
            "Clipping input data to the valid range for imshow with RGB data ([0..1] for floats or [0..255] for integers).\n"
          ],
          "name": "stderr"
        },
        {
          "output_type": "display_data",
          "data": {
            "image/png": "[encoded data removed]",
            "text/plain": [
              "<Figure size 2160x288 with 20 Axes>"
            ]
          },
          "metadata": {
            "tags": [],
            "needs_background": "light"
          }
        }
      ]
    },
    {
      "cell_type": "markdown",
      "metadata": {
        "id": "qPuU-xlr2IQi"
      },
      "source": [
        "CNN \n",
        "\n",
        "The Problem: MNIST digit classification\n",
        "\t\n",
        "We’re going to tackle a classic introductory Computer Vision problem: MNIST handwritten digit classification. It’s simple: given an image, classify it as a digit\n",
        "\t\n",
        "Each image in the MNIST dataset is 28x28 and contains a centered, grayscale digit. Our CNN will take an image and output one of 10 possible classes (one for each digit)\n",
        "\n",
        "First of all,  import all necessary packages\n",
        "\n"
      ]
    },
    {
      "cell_type": "code",
      "metadata": {
        "id": "FAcah1drwp5F"
      },
      "source": [
        "import numpy as np\n",
        "import tensorflow as tf\n",
        "from keras.datasets import cifar10\n",
        "from keras.models import Sequential\n",
        "from keras.layers import Conv2D, MaxPooling2D, Dense, Flatten\n",
        "from keras.utils import to_categorical"
      ],
      "execution_count": 37,
      "outputs": []
    },
    {
      "cell_type": "code",
      "metadata": {
        "id": "G8wNQ_5JwrbI"
      },
      "source": [
        "(train_images, train_labels), (test_images, test_labels) = cifar10.load_data()"
      ],
      "execution_count": 38,
      "outputs": []
    },
    {
      "cell_type": "markdown",
      "metadata": {
        "id": "2sT7ApeR2u4I"
      },
      "source": [
        "Before we begin, we’ll normalize the image pixel values from [0, 255] to [-0.5, 0.5]\n",
        "\t \n",
        "This will  make our network easier to train (using smaller, centered values usually leads to better results). \n",
        "\n",
        "We’ll also reshape each image from (28, 28) to (28, 28, 1) because Keras requires the third dimension. (1 stands for color scheme, which is grey scale in this case). \n",
        "\n"
      ]
    },
    {
      "cell_type": "code",
      "metadata": {
        "id": "5fvE-hRywrlV"
      },
      "source": [
        "# Normalize the images.\n",
        "train_images = (train_images / 255) - 0.5\n",
        "test_images = (test_images / 255) - 0.5"
      ],
      "execution_count": 39,
      "outputs": []
    },
    {
      "cell_type": "code",
      "metadata": {
        "colab": {
          "base_uri": "https://localhost:8080/"
        },
        "id": "Dj4pVZXws1m8",
        "outputId": "ff7a240b-4766-4193-b58c-c7204f409958"
      },
      "source": [
        "print(train_images.shape);"
      ],
      "execution_count": 40,
      "outputs": [
        {
          "output_type": "stream",
          "text": [
            "(50000, 32, 32, 3)\n"
          ],
          "name": "stdout"
        }
      ]
    },
    {
      "cell_type": "code",
      "metadata": {
        "id": "Xcah0Yovwro7"
      },
      "source": [
        "# Reshape the images.\n",
        "#train_images = np.expand_dims(train_images, axis=3)\n",
        "#test_images = np.expand_dims(test_images, axis=3)"
      ],
      "execution_count": 41,
      "outputs": []
    },
    {
      "cell_type": "markdown",
      "metadata": {
        "id": "73nP9Kv73IJt"
      },
      "source": [
        "Keras model is either built using the Sequential class, which represents a linear stack of layers, or the functional Model class, which is more customizable. \n",
        "\n",
        "We’ll be using the simpler Sequential model, since our CNN will be a linear stack of layers.\n",
        "\n",
        "num_filters, filter_size, and pool_size are self-explanatory variables that set the hyperparameters for our CNN.\n",
        "\n",
        "The first layer in any Sequential model must specify the input_shape, so we do so on Conv2D. \n",
        "\n",
        "Once this input shape is specified, Keras will automatically infer the shapes of inputs for later layers.\n",
        "\t\n",
        "The output Softmax layer has 10 nodes, one for each class\n",
        "\n",
        "\n"
      ]
    },
    {
      "cell_type": "code",
      "metadata": {
        "id": "soSpyDp6wrr4"
      },
      "source": [
        "\n",
        "num_filters = 12\n",
        "filter_size = 5\n",
        "pool_size = 2"
      ],
      "execution_count": 42,
      "outputs": []
    },
    {
      "cell_type": "code",
      "metadata": {
        "id": "2CpLEcMKw-CZ"
      },
      "source": [
        "# Build the model.\n",
        "model = Sequential([\n",
        "  Conv2D(num_filters, filter_size, input_shape=(32, 32, 3)),\n",
        "  MaxPooling2D(pool_size=pool_size),\n",
        "  Flatten(),\n",
        "  Dense(10, activation='softmax'),\n",
        "])"
      ],
      "execution_count": 43,
      "outputs": []
    },
    {
      "cell_type": "markdown",
      "metadata": {
        "id": "SkwwUCKQ4M7U"
      },
      "source": [
        "Before we can begin training, we need to configure the training process. We decide 3 key factors during the compilation step:\n",
        "\t\n",
        "The optimizer. We’ll stick with a pretty good default: the Adam gradient-based optimizer. Keras has many other optimizers you can look into as well.\n",
        "\n",
        "The loss function. Since we’re using a Softmax output layer, we’ll use the Cross-Entropy loss. Keras distinguishes between binary_crossentropy (2 classes) and categorical_crossentropy (>2 classes), so we’ll use the latter. \n",
        "\n",
        "A list of metrics. Since this is a classification problem, we’ll just have Keras report on the accuracy metric.\n",
        "\n"
      ]
    },
    {
      "cell_type": "code",
      "metadata": {
        "id": "uhflsBSvw-GX"
      },
      "source": [
        "# Compile the model.\n",
        "model.compile(\n",
        "  'adam',\n",
        "  loss='categorical_crossentropy',\n",
        "  metrics=['accuracy'],\n",
        ")"
      ],
      "execution_count": 44,
      "outputs": []
    },
    {
      "cell_type": "markdown",
      "metadata": {
        "id": "SVGOn2AX41Ub"
      },
      "source": [
        "Training a model in Keras literally consists only of calling fit() and specifying some parameters. There are a lot of possible parameters, but we’ll only supply these:\n",
        "\n",
        "The training data (images and labels), commonly known as X and Y, respectively.\n",
        "\n",
        "The number of epochs (iterations over the entire dataset) to train for.\n",
        "\n",
        "The validation data (or test data), which is used during training to periodically measure the network’s performance against data it hasn’t seen before.\n",
        "\n",
        "There’s one thing we have to be careful about:\n",
        "\n",
        "Keras expects the training targets to be 10-dimensional vectors, since there are 10 nodes in our Softmax output layer. Right now, our train_labels and test_labels arrays contain single integers representing the class for each image\n",
        "\n",
        "Conveniently, Keras has a utility method that fixes this exact issue:\n",
        "to_categorical: It turns our array of class integers into an array of one-hot vectors instead. For example, 2 would become [0, 0, 1, 0, 0, 0, 0, 0, 0, 0] (it’s zero-indexed)\n",
        "\n",
        "\n",
        "\n"
      ]
    },
    {
      "cell_type": "code",
      "metadata": {
        "colab": {
          "base_uri": "https://localhost:8080/"
        },
        "id": "srpkxU0_w-JR",
        "outputId": "2dd7d222-56d7-4ce7-c6d6-47b413eff93b"
      },
      "source": [
        "# Train the model.\n",
        "model.fit(\n",
        "  train_images,\n",
        "  to_categorical(train_labels),\n",
        "  epochs=30,\n",
        "  validation_data=(test_images, to_categorical(test_labels)),\n",
        ")"
      ],
      "execution_count": 45,
      "outputs": [
        {
          "output_type": "stream",
          "text": [
            "Epoch 1/30\n",
            "1563/1563 [==============================] - 6s 3ms/step - loss: 1.7435 - accuracy: 0.3907 - val_loss: 1.4208 - val_accuracy: 0.5067\n",
            "Epoch 2/30\n",
            "1563/1563 [==============================] - 5s 3ms/step - loss: 1.3844 - accuracy: 0.5177 - val_loss: 1.3351 - val_accuracy: 0.5400\n",
            "Epoch 3/30\n",
            "1563/1563 [==============================] - 5s 3ms/step - loss: 1.2683 - accuracy: 0.5657 - val_loss: 1.2665 - val_accuracy: 0.5598\n",
            "Epoch 4/30\n",
            "1563/1563 [==============================] - 5s 3ms/step - loss: 1.1897 - accuracy: 0.5905 - val_loss: 1.2310 - val_accuracy: 0.5815\n",
            "Epoch 5/30\n",
            "1563/1563 [==============================] - 5s 3ms/step - loss: 1.1457 - accuracy: 0.6058 - val_loss: 1.1787 - val_accuracy: 0.5971\n",
            "Epoch 6/30\n",
            "1563/1563 [==============================] - 5s 3ms/step - loss: 1.1015 - accuracy: 0.6235 - val_loss: 1.2037 - val_accuracy: 0.5892\n",
            "Epoch 7/30\n",
            "1563/1563 [==============================] - 5s 3ms/step - loss: 1.0655 - accuracy: 0.6363 - val_loss: 1.1690 - val_accuracy: 0.5994\n",
            "Epoch 8/30\n",
            "1563/1563 [==============================] - 5s 3ms/step - loss: 1.0520 - accuracy: 0.6390 - val_loss: 1.1750 - val_accuracy: 0.6034\n",
            "Epoch 9/30\n",
            "1563/1563 [==============================] - 5s 3ms/step - loss: 1.0312 - accuracy: 0.6477 - val_loss: 1.1607 - val_accuracy: 0.6019\n",
            "Epoch 10/30\n",
            "1563/1563 [==============================] - 5s 3ms/step - loss: 1.0167 - accuracy: 0.6477 - val_loss: 1.1577 - val_accuracy: 0.6098\n",
            "Epoch 11/30\n",
            "1563/1563 [==============================] - 5s 3ms/step - loss: 1.0071 - accuracy: 0.6545 - val_loss: 1.1716 - val_accuracy: 0.6059\n",
            "Epoch 12/30\n",
            "1563/1563 [==============================] - 5s 3ms/step - loss: 1.0031 - accuracy: 0.6576 - val_loss: 1.1948 - val_accuracy: 0.5955\n",
            "Epoch 13/30\n",
            "1563/1563 [==============================] - 5s 3ms/step - loss: 0.9878 - accuracy: 0.6622 - val_loss: 1.2100 - val_accuracy: 0.5895\n",
            "Epoch 14/30\n",
            "1563/1563 [==============================] - 5s 3ms/step - loss: 0.9767 - accuracy: 0.6662 - val_loss: 1.1527 - val_accuracy: 0.6069\n",
            "Epoch 15/30\n",
            "1563/1563 [==============================] - 5s 3ms/step - loss: 0.9687 - accuracy: 0.6657 - val_loss: 1.1730 - val_accuracy: 0.6090\n",
            "Epoch 16/30\n",
            "1563/1563 [==============================] - 5s 3ms/step - loss: 0.9738 - accuracy: 0.6685 - val_loss: 1.1732 - val_accuracy: 0.6029\n",
            "Epoch 17/30\n",
            "1563/1563 [==============================] - 5s 3ms/step - loss: 0.9543 - accuracy: 0.6744 - val_loss: 1.1833 - val_accuracy: 0.5976\n",
            "Epoch 18/30\n",
            "1563/1563 [==============================] - 5s 3ms/step - loss: 0.9542 - accuracy: 0.6720 - val_loss: 1.2042 - val_accuracy: 0.6012\n",
            "Epoch 19/30\n",
            "1563/1563 [==============================] - 5s 3ms/step - loss: 0.9566 - accuracy: 0.6694 - val_loss: 1.1855 - val_accuracy: 0.5973\n",
            "Epoch 20/30\n",
            "1563/1563 [==============================] - 5s 3ms/step - loss: 0.9299 - accuracy: 0.6826 - val_loss: 1.2109 - val_accuracy: 0.5969\n",
            "Epoch 21/30\n",
            "1563/1563 [==============================] - 5s 3ms/step - loss: 0.9327 - accuracy: 0.6768 - val_loss: 1.1933 - val_accuracy: 0.6019\n",
            "Epoch 22/30\n",
            "1563/1563 [==============================] - 5s 3ms/step - loss: 0.9335 - accuracy: 0.6780 - val_loss: 1.2484 - val_accuracy: 0.5844\n",
            "Epoch 23/30\n",
            "1563/1563 [==============================] - 5s 3ms/step - loss: 0.9361 - accuracy: 0.6774 - val_loss: 1.1908 - val_accuracy: 0.6050\n",
            "Epoch 24/30\n",
            "1563/1563 [==============================] - 5s 3ms/step - loss: 0.9334 - accuracy: 0.6790 - val_loss: 1.2038 - val_accuracy: 0.5999\n",
            "Epoch 25/30\n",
            "1563/1563 [==============================] - 5s 3ms/step - loss: 0.9186 - accuracy: 0.6852 - val_loss: 1.2050 - val_accuracy: 0.5977\n",
            "Epoch 26/30\n",
            "1563/1563 [==============================] - 5s 3ms/step - loss: 0.9250 - accuracy: 0.6800 - val_loss: 1.2097 - val_accuracy: 0.6028\n",
            "Epoch 27/30\n",
            "1563/1563 [==============================] - 5s 3ms/step - loss: 0.9147 - accuracy: 0.6807 - val_loss: 1.2562 - val_accuracy: 0.5865\n",
            "Epoch 28/30\n",
            "1563/1563 [==============================] - 5s 3ms/step - loss: 0.9097 - accuracy: 0.6885 - val_loss: 1.2333 - val_accuracy: 0.5973\n",
            "Epoch 29/30\n",
            "1563/1563 [==============================] - 5s 3ms/step - loss: 0.9103 - accuracy: 0.6830 - val_loss: 1.2188 - val_accuracy: 0.5989\n",
            "Epoch 30/30\n",
            "1563/1563 [==============================] - 5s 3ms/step - loss: 0.9015 - accuracy: 0.6889 - val_loss: 1.2090 - val_accuracy: 0.5966\n"
          ],
          "name": "stdout"
        },
        {
          "output_type": "execute_result",
          "data": {
            "text/plain": [
              "<tensorflow.python.keras.callbacks.History at 0x7fa70e3ce9d0>"
            ]
          },
          "metadata": {
            "tags": []
          },
          "execution_count": 45
        }
      ]
    },
    {
      "cell_type": "code",
      "metadata": {
        "id": "Ganai2kyw-MX"
      },
      "source": [
        "# Predict on the first 20 test images.\n",
        "predictions = model.predict(test_images[:20])"
      ],
      "execution_count": 46,
      "outputs": []
    },
    {
      "cell_type": "code",
      "metadata": {
        "colab": {
          "base_uri": "https://localhost:8080/"
        },
        "id": "WNqIPTlow-Ox",
        "outputId": "eed72433-7ab4-46d5-ad20-9edde402a72c"
      },
      "source": [
        "# Print our model's predictions.\n",
        "print(\"These are the model predictions :\")\n",
        "print(np.argmax(predictions, axis=1)) \n",
        "print(\"\\n\")"
      ],
      "execution_count": 47,
      "outputs": [
        {
          "output_type": "stream",
          "text": [
            "These are the model predictions :\n",
            "[8 8 8 8 6 6 1 6 3 1 0 9 3 7 9 8 5 5 8 6]\n",
            "\n",
            "\n"
          ],
          "name": "stdout"
        }
      ]
    },
    {
      "cell_type": "code",
      "metadata": {
        "colab": {
          "base_uri": "https://localhost:8080/"
        },
        "id": "8KAZx-dIw-SC",
        "outputId": "1cb1359f-e2ed-4450-f3cf-d2d802666312"
      },
      "source": [
        "# Check our predictions against the ground truths.\n",
        "print(\"These are the corresponding labels :\")\n",
        "print(test_labels[:20]) "
      ],
      "execution_count": 48,
      "outputs": [
        {
          "output_type": "stream",
          "text": [
            "These are the corresponding labels :\n",
            "[[3]\n",
            " [8]\n",
            " [8]\n",
            " [0]\n",
            " [6]\n",
            " [6]\n",
            " [1]\n",
            " [6]\n",
            " [3]\n",
            " [1]\n",
            " [0]\n",
            " [9]\n",
            " [5]\n",
            " [7]\n",
            " [9]\n",
            " [8]\n",
            " [5]\n",
            " [7]\n",
            " [8]\n",
            " [6]]\n"
          ],
          "name": "stdout"
        }
      ]
    },
    {
      "cell_type": "code",
      "metadata": {
        "colab": {
          "base_uri": "https://localhost:8080/",
          "height": 587
        },
        "id": "1xXvuwjexicR",
        "outputId": "6db8c903-b5a1-4ce8-ffbb-33f7e9cda598"
      },
      "source": [
        "\n",
        "plt.figure(figsize=(20, 4))\n",
        "for i in range(20):\n",
        "    # original\n",
        "    plt.subplot(2, 10, i + 1)\n",
        "    plt.imshow(test_images[i])\n",
        "    plt.gray()\n",
        "    plt.axis('off')\n",
        " \n",
        " \n",
        "plt.tight_layout()\n",
        "plt.show()"
      ],
      "execution_count": 49,
      "outputs": [
        {
          "output_type": "stream",
          "text": [
            "Clipping input data to the valid range for imshow with RGB data ([0..1] for floats or [0..255] for integers).\n",
            "Clipping input data to the valid range for imshow with RGB data ([0..1] for floats or [0..255] for integers).\n",
            "Clipping input data to the valid range for imshow with RGB data ([0..1] for floats or [0..255] for integers).\n",
            "Clipping input data to the valid range for imshow with RGB data ([0..1] for floats or [0..255] for integers).\n",
            "Clipping input data to the valid range for imshow with RGB data ([0..1] for floats or [0..255] for integers).\n",
            "Clipping input data to the valid range for imshow with RGB data ([0..1] for floats or [0..255] for integers).\n",
            "Clipping input data to the valid range for imshow with RGB data ([0..1] for floats or [0..255] for integers).\n",
            "Clipping input data to the valid range for imshow with RGB data ([0..1] for floats or [0..255] for integers).\n",
            "Clipping input data to the valid range for imshow with RGB data ([0..1] for floats or [0..255] for integers).\n",
            "Clipping input data to the valid range for imshow with RGB data ([0..1] for floats or [0..255] for integers).\n",
            "Clipping input data to the valid range for imshow with RGB data ([0..1] for floats or [0..255] for integers).\n",
            "Clipping input data to the valid range for imshow with RGB data ([0..1] for floats or [0..255] for integers).\n",
            "Clipping input data to the valid range for imshow with RGB data ([0..1] for floats or [0..255] for integers).\n",
            "Clipping input data to the valid range for imshow with RGB data ([0..1] for floats or [0..255] for integers).\n",
            "Clipping input data to the valid range for imshow with RGB data ([0..1] for floats or [0..255] for integers).\n",
            "Clipping input data to the valid range for imshow with RGB data ([0..1] for floats or [0..255] for integers).\n",
            "Clipping input data to the valid range for imshow with RGB data ([0..1] for floats or [0..255] for integers).\n",
            "Clipping input data to the valid range for imshow with RGB data ([0..1] for floats or [0..255] for integers).\n",
            "Clipping input data to the valid range for imshow with RGB data ([0..1] for floats or [0..255] for integers).\n",
            "Clipping input data to the valid range for imshow with RGB data ([0..1] for floats or [0..255] for integers).\n"
          ],
          "name": "stderr"
        },
        {
          "output_type": "display_data",
          "data": {
            "image/png": "[encoded data removed]",
            "text/plain": [
              "<Figure size 1440x288 with 20 Axes>"
            ]
          },
          "metadata": {
            "tags": [],
            "needs_background": "light"
          }
        }
      ]
    }
  ]
}
